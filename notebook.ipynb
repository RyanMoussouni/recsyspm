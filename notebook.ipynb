{
  "nbformat": 4,
  "nbformat_minor": 0,
  "metadata": {
    "colab": {
      "name": "notebook.ipynb",
      "provenance": [],
      "collapsed_sections": [],
      "toc_visible": true,
      "include_colab_link": true
    },
    "kernelspec": {
      "display_name": "Python 3",
      "language": "python",
      "name": "python3"
    },
    "language_info": {
      "codemirror_mode": {
        "name": "ipython",
        "version": 3
      },
      "file_extension": ".py",
      "mimetype": "text/x-python",
      "name": "python",
      "nbconvert_exporter": "python",
      "pygments_lexer": "ipython3",
      "version": "3.9.1"
    }
  },
  "cells": [
    {
      "cell_type": "markdown",
      "metadata": {
        "id": "view-in-github",
        "colab_type": "text"
      },
      "source": [
        "<a href=\"https://colab.research.google.com/github/TiphaineV/gpeg/blob/heavy/notebook.ipynb\" target=\"_parent\"><img src=\"https://colab.research.google.com/assets/colab-badge.svg\" alt=\"Open In Colab\"/></a>"
      ]
    },
    {
      "cell_type": "markdown",
      "metadata": {
        "id": "7k1QGkhbOb3g"
      },
      "source": [
        "## Loading Files"
      ]
    },
    {
      "cell_type": "code",
      "metadata": {
        "id": "rAyJm-MIs0_8"
      },
      "source": [
        "import pandas as pd\n",
        "from sklearn.metrics import classification_report\n",
        "import scipy.sparse as sparse"
      ],
      "execution_count": 1,
      "outputs": []
    },
    {
      "cell_type": "code",
      "metadata": {
        "colab": {
          "base_uri": "https://localhost:8080/"
        },
        "id": "2oe6rA--cBKZ",
        "outputId": "1798badb-cc96-4ab3-835a-6e38f945afe8"
      },
      "source": [
        "!pip install memory-profiler"
      ],
      "execution_count": 2,
      "outputs": [
        {
          "output_type": "stream",
          "text": [
            "Collecting memory-profiler\n",
            "  Downloading https://files.pythonhosted.org/packages/8f/fd/d92b3295657f8837e0177e7b48b32d6651436f0293af42b76d134c3bb489/memory_profiler-0.58.0.tar.gz\n",
            "Requirement already satisfied: psutil in /usr/local/lib/python3.6/dist-packages (from memory-profiler) (5.4.8)\n",
            "Building wheels for collected packages: memory-profiler\n",
            "  Building wheel for memory-profiler (setup.py) ... \u001b[?25l\u001b[?25hdone\n",
            "  Created wheel for memory-profiler: filename=memory_profiler-0.58.0-cp36-none-any.whl size=30181 sha256=d3c97c1ec0428f76235d85d457563fbefc60c904a7c2a3e33190bcc0c061bde9\n",
            "  Stored in directory: /root/.cache/pip/wheels/02/e4/0b/aaab481fc5dd2a4ea59e78bc7231bb6aae7635ca7ee79f8ae5\n",
            "Successfully built memory-profiler\n",
            "Installing collected packages: memory-profiler\n",
            "Successfully installed memory-profiler-0.58.0\n"
          ],
          "name": "stdout"
        }
      ]
    },
    {
      "cell_type": "code",
      "metadata": {
        "id": "E27TZzXvcKPQ"
      },
      "source": [
        "%load_ext memory_profiler"
      ],
      "execution_count": 3,
      "outputs": []
    },
    {
      "cell_type": "code",
      "metadata": {
        "id": "3tMuNeazqNVu"
      },
      "source": [
        "!pip install -U -q PyDrive\n",
        "from pydrive.auth import GoogleAuth\n",
        "from pydrive.drive import GoogleDrive\n",
        "from google.colab import auth\n",
        "from oauth2client.client import GoogleCredentials\n",
        "# Authenticate and create the PyDrive client.\n",
        "auth.authenticate_user()\n",
        "gauth = GoogleAuth()\n",
        "gauth.credentials = GoogleCredentials.get_application_default()\n",
        "drive = GoogleDrive(gauth)"
      ],
      "execution_count": 4,
      "outputs": []
    },
    {
      "cell_type": "code",
      "metadata": {
        "id": "jlf9P0WcqaP1"
      },
      "source": [
        "# -- Adapt it with the id of your files\n",
        "userfile_id = '1SujkUIqpPKg9LlJ8s77upbeTKkenmrLc'\n",
        "adjency_id = '1Oz8rbp1HOb9EB_7dZYLQdVJ09oAyMlWB'"
      ],
      "execution_count": 5,
      "outputs": []
    },
    {
      "cell_type": "code",
      "metadata": {
        "colab": {
          "base_uri": "https://localhost:8080/"
        },
        "id": "itz-paJgzjac",
        "outputId": "52862e22-aee7-424e-eecd-41b11eadd67e"
      },
      "source": [
        "# -- some cleaning\n",
        "needed = True\n",
        "if needed :\n",
        "  %rm -R gpeg/\n",
        "  %rm context.py\n",
        "  %rm fastGraph.py\n",
        "  %rm node.py\n",
        "  %rm _recSystems.py\n",
        "  %rm trivialClf.py\n",
        "  %rm edge.py\n",
        "  %rm main.py \n",
        "  %rm scorer.py"
      ],
      "execution_count": 6,
      "outputs": [
        {
          "output_type": "stream",
          "text": [
            "rm: cannot remove 'gpeg/': No such file or directory\n",
            "rm: cannot remove 'context.py': No such file or directory\n",
            "rm: cannot remove 'fastGraph.py': No such file or directory\n",
            "rm: cannot remove 'node.py': No such file or directory\n",
            "rm: cannot remove '_recSystems.py': No such file or directory\n",
            "rm: cannot remove 'trivialClf.py': No such file or directory\n",
            "rm: cannot remove 'edge.py': No such file or directory\n",
            "rm: cannot remove 'main.py': No such file or directory\n",
            "rm: cannot remove 'scorer.py': No such file or directory\n"
          ],
          "name": "stdout"
        }
      ]
    },
    {
      "cell_type": "code",
      "metadata": {
        "colab": {
          "base_uri": "https://localhost:8080/"
        },
        "id": "g-7LxOj7GZ-n",
        "outputId": "a7e01eb8-c69e-4508-f71e-169492857a7b"
      },
      "source": [
        "!git clone -b heavy https://github.com/TiphaineV/gpeg.git"
      ],
      "execution_count": 7,
      "outputs": [
        {
          "output_type": "stream",
          "text": [
            "Cloning into 'gpeg'...\n",
            "remote: Enumerating objects: 315, done.\u001b[K\n",
            "remote: Counting objects: 100% (315/315), done.\u001b[K\n",
            "remote: Compressing objects: 100% (200/200), done.\u001b[K\n",
            "remote: Total 481 (delta 211), reused 197 (delta 113), pack-reused 166\u001b[K\n",
            "Receiving objects: 100% (481/481), 1.06 MiB | 3.36 MiB/s, done.\n",
            "Resolving deltas: 100% (299/299), done.\n"
          ],
          "name": "stdout"
        }
      ]
    },
    {
      "cell_type": "code",
      "metadata": {
        "colab": {
          "base_uri": "https://localhost:8080/"
        },
        "id": "YL9NNLW5sJ6X",
        "outputId": "ce9d7855-041a-48ba-a091-77014a7d6589"
      },
      "source": [
        "cd gpeg/fast_implementation/"
      ],
      "execution_count": 8,
      "outputs": [
        {
          "output_type": "stream",
          "text": [
            "/content/gpeg/fast_implementation\n"
          ],
          "name": "stdout"
        }
      ]
    },
    {
      "cell_type": "code",
      "metadata": {
        "id": "Gx_E85y5so7r"
      },
      "source": [
        "# Modules\n",
        "import numpy as np\n",
        "from _recSystems import _Clf\n",
        "from fastGraph import Graph\n",
        "from trivialClf import TrivialClf\n",
        "from scorer import ClfScorer\n",
        "from features import StandardFeatures"
      ],
      "execution_count": 9,
      "outputs": []
    },
    {
      "cell_type": "code",
      "metadata": {
        "id": "5LooRBnF5JcW"
      },
      "source": [
        "adjencyBool = True\n",
        "userDataBool = False"
      ],
      "execution_count": 22,
      "outputs": []
    },
    {
      "cell_type": "code",
      "metadata": {
        "id": "RoGtfIGwqZFy"
      },
      "source": [
        "# -- Loading userData (heavy, takes around a minute)\n",
        "downloaded = drive.CreateFile({'id':userfile_id}) \n",
        "downloaded.GetContentFile('userData.csv')\n",
        "if userDataBool:\n",
        "    userDataStream = pd.read_csv('userData.csv', chunksize= 1e6) # please don't change chuksize"
      ],
      "execution_count": 23,
      "outputs": []
    },
    {
      "cell_type": "code",
      "metadata": {
        "id": "lbs-feAgKHWg"
      },
      "source": [
        "# -- Loading adjency \n",
        "if adjencyBool:\n",
        "    downloaded = drive.CreateFile({'id':adjency_id}) \n",
        "    downloaded.GetContentFile('adjency-20M.npz')"
      ],
      "execution_count": 12,
      "outputs": []
    },
    {
      "cell_type": "markdown",
      "metadata": {
        "id": "jicOoSBDOguK"
      },
      "source": [
        "## Building Adjency Matrix"
      ]
    },
    {
      "cell_type": "code",
      "metadata": {
        "colab": {
          "base_uri": "https://localhost:8080/"
        },
        "id": "PcEwOHi8wxOd",
        "outputId": "a8d244c7-e520-440a-a3ff-16e7a3076cc9"
      },
      "source": [
        "%%time\n",
        "# -- Graph construction, nChunk * 1e6 rows are processed from movieLens 20M.\n",
        "# -- Takes around 2'30 for one chunk\n",
        "%memit graph = Graph(path = 'adjency-20M.npz')"
      ],
      "execution_count": 13,
      "outputs": [
        {
          "output_type": "stream",
          "text": [
            "Graph init ...\n",
            "peak memory: 1004.11 MiB, increment: 692.41 MiB\n",
            "CPU times: user 2.05 s, sys: 360 ms, total: 2.41 s\n",
            "Wall time: 2.54 s\n"
          ],
          "name": "stdout"
        }
      ]
    },
    {
      "cell_type": "markdown",
      "metadata": {
        "id": "sWP7KvD_OuPM"
      },
      "source": [
        "## Graph split"
      ]
    },
    {
      "cell_type": "code",
      "metadata": {
        "colab": {
          "base_uri": "https://localhost:8080/"
        },
        "id": "bTIdketOwZ3V",
        "outputId": "204b51e5-be0e-4680-9ec9-77c7b2697000"
      },
      "source": [
        "%%time\n",
        "# -- Parameters\n",
        "alpha = 0.1 # test proportion in the split\n",
        "\n",
        "# -- train_test_split\n",
        "%memit trainEdges, testEdges = graph.train_test_split(alpha= alpha)"
      ],
      "execution_count": 14,
      "outputs": [
        {
          "output_type": "stream",
          "text": [
            "peak memory: 2238.55 MiB, increment: 1234.41 MiB\n",
            "CPU times: user 41.1 s, sys: 826 ms, total: 41.9 s\n",
            "Wall time: 42.1 s\n"
          ],
          "name": "stdout"
        }
      ]
    },
    {
      "cell_type": "markdown",
      "metadata": {
        "id": "By-Ea9BEOxCc"
      },
      "source": [
        "## Classification"
      ]
    },
    {
      "cell_type": "code",
      "metadata": {
        "colab": {
          "base_uri": "https://localhost:8080/"
        },
        "id": "7f8kucuXPMiY",
        "outputId": "8db9dddf-36c9-45ab-ec1f-878caa294523"
      },
      "source": [
        "# -- Loading userData\n",
        "%memit userData = pd.read_csv('userData.csv')"
      ],
      "execution_count": 24,
      "outputs": [
        {
          "output_type": "stream",
          "text": [
            "peak memory: 6415.44 MiB, increment: 3179.82 MiB\n"
          ],
          "name": "stdout"
        }
      ]
    },
    {
      "cell_type": "code",
      "metadata": {
        "colab": {
          "base_uri": "https://localhost:8080/"
        },
        "id": "mkSIgknaErjF",
        "outputId": "b1768df7-f58b-44d3-a3f2-419d1a960274"
      },
      "source": [
        "print(userData.head(10))"
      ],
      "execution_count": 25,
      "outputs": [
        {
          "output_type": "stream",
          "text": [
            "   Unnamed: 0  userId  movieId  rating     timestamp_rating  tag timestamp_tag\n",
            "0           0       1        2     3.5  2005-04-02 23:53:47  NaN           NaN\n",
            "1           1       1       29     3.5  2005-04-02 23:31:16  NaN           NaN\n",
            "2           2       1       32     3.5  2005-04-02 23:33:39  NaN           NaN\n",
            "3           3       1       47     3.5  2005-04-02 23:32:07  NaN           NaN\n",
            "4           4       1       50     3.5  2005-04-02 23:29:40  NaN           NaN\n",
            "5           5       1      112     3.5  2004-09-10 03:09:00  NaN           NaN\n",
            "6           6       1      151     4.0  2004-09-10 03:08:54  NaN           NaN\n",
            "7           7       1      223     4.0  2005-04-02 23:46:13  NaN           NaN\n",
            "8           8       1      253     4.0  2005-04-02 23:35:40  NaN           NaN\n",
            "9           9       1      260     4.0  2005-04-02 23:33:46  NaN           NaN\n"
          ],
          "name": "stdout"
        }
      ]
    },
    {
      "cell_type": "code",
      "metadata": {
        "id": "ett7vDha5Jca"
      },
      "source": [
        "# -- Getting feature functions\n",
        "featFncts = StandardFeatures.get_featFncts()"
      ],
      "execution_count": 26,
      "outputs": []
    },
    {
      "cell_type": "code",
      "metadata": {
        "colab": {
          "base_uri": "https://localhost:8080/"
        },
        "id": "WyplwG2XEquN",
        "outputId": "2c73daa4-9dcd-42e5-add1-9a331ab5c6fd"
      },
      "source": [
        "# -- Fitting recommender system\n",
        "clf = TrivialClf(userData, graph.adjency, featFncts)\n",
        "%memit clf.fit(trainEdges)"
      ],
      "execution_count": 27,
      "outputs": [
        {
          "output_type": "stream",
          "text": [
            "peak memory: 8335.49 MiB, increment: 1919.42 MiB\n"
          ],
          "name": "stdout"
        }
      ]
    },
    {
      "cell_type": "markdown",
      "metadata": {
        "id": "82lOTWJWOa_j"
      },
      "source": [
        "## Scoring predictions"
      ]
    },
    {
      "cell_type": "code",
      "metadata": {
        "colab": {
          "base_uri": "https://localhost:8080/"
        },
        "id": "n12mho8gE-CL",
        "outputId": "8b6eab5f-77d5-4ed1-c641-9a1e00cf66f9"
      },
      "source": [
        "# -- Prediction (quite long because linear in nb of edges)\n",
        "yPred = clf.predict(testEdges)\n",
        "yTrue = clf._get_labels(testEdges)"
      ],
      "execution_count": 28,
      "outputs": [
        {
          "output_type": "stream",
          "text": [
            "random prop 0.884169\n"
          ],
          "name": "stdout"
        }
      ]
    },
    {
      "cell_type": "code",
      "metadata": {
        "id": "fKHG8yZi1z0G",
        "colab": {
          "base_uri": "https://localhost:8080/"
        },
        "outputId": "78434f64-358c-46f5-91b5-f3b094b7bb0a"
      },
      "source": [
        "print(classification_report(yTrue, yPred))"
      ],
      "execution_count": 29,
      "outputs": [
        {
          "output_type": "stream",
          "text": [
            "              precision    recall  f1-score   support\n",
            "\n",
            "           0       0.94      0.68      0.79   1879131\n",
            "           1       0.06      0.32      0.10    120869\n",
            "\n",
            "    accuracy                           0.66   2000000\n",
            "   macro avg       0.50      0.50      0.44   2000000\n",
            "weighted avg       0.89      0.66      0.75   2000000\n",
            "\n"
          ],
          "name": "stdout"
        }
      ]
    },
    {
      "cell_type": "code",
      "metadata": {
        "id": "nJ40_3D4JE8P",
        "colab": {
          "base_uri": "https://localhost:8080/"
        },
        "outputId": "30934afe-f234-4315-eb20-53360cfa3a83"
      },
      "source": [
        "sample = np.random.choice(range(len(yPred)), size = 10)\n",
        "print(sample)"
      ],
      "execution_count": 30,
      "outputs": [
        {
          "output_type": "stream",
          "text": [
            "[ 624356 1112098 1536539 1939300 1121654  862319  171965  300172 1084478\n",
            "  922828]\n"
          ],
          "name": "stdout"
        }
      ]
    },
    {
      "cell_type": "code",
      "metadata": {
        "id": "iQUNBHw7O_ZE",
        "colab": {
          "base_uri": "https://localhost:8080/"
        },
        "outputId": "98808055-7e09-4483-f51c-962f4032e71c"
      },
      "source": [
        "print('Predictions \\n', yPred.iloc[sample].astype('uint8'))"
      ],
      "execution_count": 31,
      "outputs": [
        {
          "output_type": "stream",
          "text": [
            "Predictions \n",
            " 706856     1\n",
            "1258744    1\n",
            "1737582    0\n",
            "1476634    1\n",
            "1269564    0\n",
            "976928     0\n",
            "193364     0\n",
            "339540     1\n",
            "1227658    0\n",
            "1045295    0\n",
            "dtype: uint8\n"
          ],
          "name": "stdout"
        }
      ]
    },
    {
      "cell_type": "code",
      "metadata": {
        "id": "3BryjhxBPCj0",
        "colab": {
          "base_uri": "https://localhost:8080/"
        },
        "outputId": "98e37004-28b9-47bf-84d8-301e64e4da95"
      },
      "source": [
        "print('Ground truth labels \\n', yTrue.iloc[sample])"
      ],
      "execution_count": 32,
      "outputs": [
        {
          "output_type": "stream",
          "text": [
            "Ground truth labels \n",
            " 624356     0\n",
            "1112098    0\n",
            "1536539    0\n",
            "1939300    0\n",
            "1121654    0\n",
            "862319     0\n",
            "171965     0\n",
            "300172     0\n",
            "1084478    0\n",
            "922828     0\n",
            "Name: rating, dtype: uint8\n"
          ],
          "name": "stdout"
        }
      ]
    },
    {
      "cell_type": "code",
      "metadata": {
        "id": "LUHaN7f2PWk0"
      },
      "source": [
        "# -- Scoring\n",
        "#scorer = ClfScorer()\n",
        "#%memit score = scorer.score(clf, testEdges) "
      ],
      "execution_count": null,
      "outputs": []
    },
    {
      "cell_type": "markdown",
      "metadata": {
        "id": "YRz_JdNiVOm_"
      },
      "source": [
        "## Some Exploratory Data Analysis"
      ]
    },
    {
      "cell_type": "code",
      "metadata": {
        "id": "zbY2uldIWXAG"
      },
      "source": [
        "import matplotlib.pyplot as plt\n",
        "%matplotlib inline"
      ],
      "execution_count": 33,
      "outputs": []
    },
    {
      "cell_type": "code",
      "metadata": {
        "colab": {
          "base_uri": "https://localhost:8080/",
          "height": 356
        },
        "id": "tW0z3twkVYqI",
        "outputId": "17c557f9-bafa-4d8c-f2aa-c42291b16240"
      },
      "source": [
        "n = graph.rowFormat.shape[0]\n",
        "degreeDist = [graph.rowFormat[i].nnz for i in range(1,n)]\n",
        "\n",
        "fig, (ax1, ax2) = plt.subplots(1,2, figsize=(10,5))\n",
        "fig.suptitle('User degree')\n",
        "ax1.hist(degreeDist, bins= 100)\n",
        "ax1.set_title('full range')\n",
        "ax2.hist(degreeDist, bins = 20, range=(0,100))\n",
        "ax2.set_title('0 -> 100')\n",
        "plt.show()"
      ],
      "execution_count": 34,
      "outputs": [
        {
          "output_type": "display_data",
          "data": {
            "image/png": "[encoded data removed]",
            "text/plain": [
              "<Figure size 720x360 with 2 Axes>"
            ]
          },
          "metadata": {
            "tags": [],
            "needs_background": "light"
          }
        }
      ]
    },
    {
      "cell_type": "code",
      "metadata": {
        "colab": {
          "base_uri": "https://localhost:8080/",
          "height": 356
        },
        "id": "-OkJmY2OWeQZ",
        "outputId": "83ddc436-c62e-44c4-88e4-693e07f96c41"
      },
      "source": [
        "m = graph.colFormat.shape[1]\n",
        "degreeDist = [graph.colFormat[:,i].nnz for i in range(1,m)]\n",
        "\n",
        "fig, (ax1, ax2) = plt.subplots(1,2, figsize=(10,5))\n",
        "fig.suptitle('Movie degree')\n",
        "ax1.hist(degreeDist, bins= 100, range= (1, 70000), log=False)\n",
        "ax1.set_title('full range')\n",
        "ax2.hist(degreeDist, bins = 100, range=(1,20), log= False)\n",
        "ax2.set_title('0 -> 20')\n",
        "plt.show()"
      ],
      "execution_count": 35,
      "outputs": [
        {
          "output_type": "display_data",
          "data": {
            "image/png": "[encoded data removed]",
            "text/plain": [
              "<Figure size 720x360 with 2 Axes>"
            ]
          },
          "metadata": {
            "tags": [],
            "needs_background": "light"
          }
        }
      ]
    },
    {
      "cell_type": "code",
      "metadata": {
        "colab": {
          "base_uri": "https://localhost:8080/",
          "height": 282
        },
        "id": "hXyJzqUSkLYW",
        "outputId": "c33166d8-6c18-4ffb-9a5d-6c6d85d5e531"
      },
      "source": [
        "count = plt.hist(degreeDist, bins = 20, range=(1,20), log= False)[0]\n",
        "\n",
        "print('weight of the first degrees', np.sum(count[[0,1,2,3,4]]) /np.sum(count))"
      ],
      "execution_count": 36,
      "outputs": [
        {
          "output_type": "stream",
          "text": [
            "weight of the first degrees 0.6706652126499455\n"
          ],
          "name": "stdout"
        },
        {
          "output_type": "display_data",
          "data": {
            "image/png": "[encoded data removed]",
            "text/plain": [
              "<Figure size 432x288 with 1 Axes>"
            ]
          },
          "metadata": {
            "tags": [],
            "needs_background": "light"
          }
        }
      ]
    },
    {
      "cell_type": "markdown",
      "metadata": {
        "id": "9_6axDUtX4aW"
      },
      "source": [
        "**Remarks** : \n",
        "\n",
        "When predicting the class of an edge (user, movie) we assume we have gathered underlying data on the user or on the movie during the fit on the training data.\n",
        "However, because a lot of movies are seen once or twice, with a non negligible probability, we might have to classify an edge for which the movie has not been seen.\n",
        "\n",
        "**Solution** :\n",
        "\n",
        "A way to tackle this problem is to threshold the data set by the movie degrees."
      ]
    }
  ]
}