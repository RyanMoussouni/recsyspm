{
 "cells": [
  {
   "cell_type": "markdown",
   "metadata": {
    "colab_type": "text",
    "id": "view-in-github"
   },
   "source": [
    "<a href=\"https://colab.research.google.com/github/TiphaineV/gpeg/blob/heavy/Graph_small_(working).ipynb\" target=\"_parent\"><img src=\"https://colab.research.google.com/assets/colab-badge.svg\" alt=\"Open In Colab\"/></a>"
   ]
  },
  {
   "cell_type": "markdown",
   "metadata": {
    "id": "7k1QGkhbOb3g"
   },
   "source": [
    "## Loading Files"
   ]
  },
  {
   "cell_type": "code",
   "execution_count": 2,
   "metadata": {
    "id": "rAyJm-MIs0_8"
   },
   "outputs": [],
   "source": [
    "import pandas as pd\n",
    "from sklearn.metrics import classification_report\n",
    "import scipy.sparse as sparse"
   ]
  },
  {
   "cell_type": "code",
   "execution_count": 3,
   "metadata": {
    "colab": {
     "base_uri": "https://localhost:8080/"
    },
    "id": "2oe6rA--cBKZ",
    "outputId": "9c84f29c-0d06-4c22-a773-3389b6d05744"
   },
   "outputs": [
    {
     "name": "stdout",
     "output_type": "stream",
     "text": [
      "Collecting memory-profiler\n",
      "  Downloading https://files.pythonhosted.org/packages/8f/fd/d92b3295657f8837e0177e7b48b32d6651436f0293af42b76d134c3bb489/memory_profiler-0.58.0.tar.gz\n",
      "Requirement already satisfied: psutil in /usr/local/lib/python3.6/dist-packages (from memory-profiler) (5.4.8)\n",
      "Building wheels for collected packages: memory-profiler\n",
      "  Building wheel for memory-profiler (setup.py) ... \u001b[?25l\u001b[?25hdone\n",
      "  Created wheel for memory-profiler: filename=memory_profiler-0.58.0-cp36-none-any.whl size=30181 sha256=0a9f7981890347003c66580a3f9d3f3ebd2252a018faa925fccbbbf5ca956b90\n",
      "  Stored in directory: /root/.cache/pip/wheels/02/e4/0b/aaab481fc5dd2a4ea59e78bc7231bb6aae7635ca7ee79f8ae5\n",
      "Successfully built memory-profiler\n",
      "Installing collected packages: memory-profiler\n",
      "Successfully installed memory-profiler-0.58.0\n"
     ]
    }
   ],
   "source": [
    "!pip install memory-profiler"
   ]
  },
  {
   "cell_type": "code",
   "execution_count": 4,
   "metadata": {
    "id": "E27TZzXvcKPQ"
   },
   "outputs": [],
   "source": [
    "%load_ext memory_profiler"
   ]
  },
  {
   "cell_type": "code",
   "execution_count": 5,
   "metadata": {
    "colab": {
     "base_uri": "https://localhost:8080/",
     "height": 375
    },
    "id": "3tMuNeazqNVu",
    "outputId": "a70444f2-362e-494c-a781-d8c5be5af658"
   },
   "outputs": [
    {
     "ename": "KeyboardInterrupt",
     "evalue": "ignored",
     "output_type": "error",
     "traceback": [
      "\u001b[0;31m---------------------------------------------------------------------------\u001b[0m",
      "\u001b[0;31mKeyboardInterrupt\u001b[0m                         Traceback (most recent call last)",
      "\u001b[0;32m<ipython-input-5-6beb6b456bb8>\u001b[0m in \u001b[0;36m<module>\u001b[0;34m()\u001b[0m\n\u001b[1;32m      5\u001b[0m \u001b[0;32mfrom\u001b[0m \u001b[0moauth2client\u001b[0m\u001b[0;34m.\u001b[0m\u001b[0mclient\u001b[0m \u001b[0;32mimport\u001b[0m \u001b[0mGoogleCredentials\u001b[0m\u001b[0;34m\u001b[0m\u001b[0;34m\u001b[0m\u001b[0m\n\u001b[1;32m      6\u001b[0m \u001b[0;31m# Authenticate and create the PyDrive client.\u001b[0m\u001b[0;34m\u001b[0m\u001b[0;34m\u001b[0m\u001b[0;34m\u001b[0m\u001b[0m\n\u001b[0;32m----> 7\u001b[0;31m \u001b[0mauth\u001b[0m\u001b[0;34m.\u001b[0m\u001b[0mauthenticate_user\u001b[0m\u001b[0;34m(\u001b[0m\u001b[0;34m)\u001b[0m\u001b[0;34m\u001b[0m\u001b[0;34m\u001b[0m\u001b[0m\n\u001b[0m\u001b[1;32m      8\u001b[0m \u001b[0mgauth\u001b[0m \u001b[0;34m=\u001b[0m \u001b[0mGoogleAuth\u001b[0m\u001b[0;34m(\u001b[0m\u001b[0;34m)\u001b[0m\u001b[0;34m\u001b[0m\u001b[0;34m\u001b[0m\u001b[0m\n\u001b[1;32m      9\u001b[0m \u001b[0mgauth\u001b[0m\u001b[0;34m.\u001b[0m\u001b[0mcredentials\u001b[0m \u001b[0;34m=\u001b[0m \u001b[0mGoogleCredentials\u001b[0m\u001b[0;34m.\u001b[0m\u001b[0mget_application_default\u001b[0m\u001b[0;34m(\u001b[0m\u001b[0;34m)\u001b[0m\u001b[0;34m\u001b[0m\u001b[0;34m\u001b[0m\u001b[0m\n",
      "\u001b[0;32m/usr/local/lib/python3.6/dist-packages/google/colab/auth.py\u001b[0m in \u001b[0;36mauthenticate_user\u001b[0;34m(clear_output)\u001b[0m\n\u001b[1;32m    149\u001b[0m     \u001b[0mcontext_manager\u001b[0m \u001b[0;34m=\u001b[0m \u001b[0m_output\u001b[0m\u001b[0;34m.\u001b[0m\u001b[0mtemporary\u001b[0m \u001b[0;32mif\u001b[0m \u001b[0mclear_output\u001b[0m \u001b[0;32melse\u001b[0m \u001b[0m_noop\u001b[0m\u001b[0;34m\u001b[0m\u001b[0;34m\u001b[0m\u001b[0m\n\u001b[1;32m    150\u001b[0m     \u001b[0;32mwith\u001b[0m \u001b[0mcontext_manager\u001b[0m\u001b[0;34m(\u001b[0m\u001b[0;34m)\u001b[0m\u001b[0;34m:\u001b[0m\u001b[0;34m\u001b[0m\u001b[0;34m\u001b[0m\u001b[0m\n\u001b[0;32m--> 151\u001b[0;31m       \u001b[0m_gcloud_login\u001b[0m\u001b[0;34m(\u001b[0m\u001b[0;34m)\u001b[0m\u001b[0;34m\u001b[0m\u001b[0;34m\u001b[0m\u001b[0m\n\u001b[0m\u001b[1;32m    152\u001b[0m     \u001b[0m_install_adc\u001b[0m\u001b[0;34m(\u001b[0m\u001b[0;34m)\u001b[0m\u001b[0;34m\u001b[0m\u001b[0;34m\u001b[0m\u001b[0m\n\u001b[1;32m    153\u001b[0m     \u001b[0mcolab_tpu_addr\u001b[0m \u001b[0;34m=\u001b[0m \u001b[0m_os\u001b[0m\u001b[0;34m.\u001b[0m\u001b[0menviron\u001b[0m\u001b[0;34m.\u001b[0m\u001b[0mget\u001b[0m\u001b[0;34m(\u001b[0m\u001b[0;34m'COLAB_TPU_ADDR'\u001b[0m\u001b[0;34m,\u001b[0m \u001b[0;34m''\u001b[0m\u001b[0;34m)\u001b[0m\u001b[0;34m\u001b[0m\u001b[0;34m\u001b[0m\u001b[0m\n",
      "\u001b[0;32m/usr/local/lib/python3.6/dist-packages/google/colab/auth.py\u001b[0m in \u001b[0;36m_gcloud_login\u001b[0;34m()\u001b[0m\n\u001b[1;32m     82\u001b[0m   \u001b[0;32mtry\u001b[0m\u001b[0;34m:\u001b[0m\u001b[0;34m\u001b[0m\u001b[0;34m\u001b[0m\u001b[0m\n\u001b[1;32m     83\u001b[0m     \u001b[0;32mwhile\u001b[0m \u001b[0;32mTrue\u001b[0m\u001b[0;34m:\u001b[0m\u001b[0;34m\u001b[0m\u001b[0;34m\u001b[0m\u001b[0m\n\u001b[0;32m---> 84\u001b[0;31m       \u001b[0m_time\u001b[0m\u001b[0;34m.\u001b[0m\u001b[0msleep\u001b[0m\u001b[0;34m(\u001b[0m\u001b[0;36m0.2\u001b[0m\u001b[0;34m)\u001b[0m\u001b[0;34m\u001b[0m\u001b[0;34m\u001b[0m\u001b[0m\n\u001b[0m\u001b[1;32m     85\u001b[0m       \u001b[0m_os\u001b[0m\u001b[0;34m.\u001b[0m\u001b[0mfsync\u001b[0m\u001b[0;34m(\u001b[0m\u001b[0mf\u001b[0m\u001b[0;34m)\u001b[0m\u001b[0;34m\u001b[0m\u001b[0;34m\u001b[0m\u001b[0m\n\u001b[1;32m     86\u001b[0m       \u001b[0mprompt\u001b[0m \u001b[0;34m=\u001b[0m \u001b[0mopen\u001b[0m\u001b[0;34m(\u001b[0m\u001b[0mname\u001b[0m\u001b[0;34m)\u001b[0m\u001b[0;34m.\u001b[0m\u001b[0mread\u001b[0m\u001b[0;34m(\u001b[0m\u001b[0;34m)\u001b[0m\u001b[0;34m\u001b[0m\u001b[0;34m\u001b[0m\u001b[0m\n",
      "\u001b[0;31mKeyboardInterrupt\u001b[0m: "
     ]
    }
   ],
   "source": [
    "!pip install -U -q PyDrive\n",
    "from pydrive.auth import GoogleAuth\n",
    "from pydrive.drive import GoogleDrive\n",
    "from google.colab import auth\n",
    "from oauth2client.client import GoogleCredentials\n",
    "# Authenticate and create the PyDrive client.\n",
    "auth.authenticate_user()\n",
    "gauth = GoogleAuth()\n",
    "gauth.credentials = GoogleCredentials.get_application_default()\n",
    "drive = GoogleDrive(gauth)"
   ]
  },
  {
   "cell_type": "code",
   "execution_count": null,
   "metadata": {
    "id": "jlf9P0WcqaP1"
   },
   "outputs": [],
   "source": [
    "userfile_id = '1SujkUIqpPKg9LlJ8s77upbeTKkenmrLc'\n",
    "userMovieFile_id = '1Os5MhtWx-FRzyMYoh_QU_OWdRdzJH1_o'\n",
    "adjency_id = '1Oz8rbp1HOb9EB_7dZYLQdVJ09oAyMlWB'"
   ]
  },
  {
   "cell_type": "code",
   "execution_count": 6,
   "metadata": {
    "colab": {
     "base_uri": "https://localhost:8080/"
    },
    "id": "itz-paJgzjac",
    "outputId": "07ab273f-9046-45a4-dcb4-245d9c26ee09"
   },
   "outputs": [
    {
     "name": "stdout",
     "output_type": "stream",
     "text": [
      "rm: cannot remove 'gpeg/': No such file or directory\n",
      "rm: cannot remove 'context.py': No such file or directory\n",
      "rm: cannot remove 'fastGraph.py': No such file or directory\n",
      "rm: cannot remove 'node.py': No such file or directory\n",
      "rm: cannot remove '_recSystems.py': No such file or directory\n",
      "rm: cannot remove 'trivialClf.py': No such file or directory\n",
      "rm: cannot remove 'edge.py': No such file or directory\n",
      "rm: cannot remove 'main.py': No such file or directory\n",
      "rm: cannot remove 'scorer.py': No such file or directory\n"
     ]
    }
   ],
   "source": [
    "# -- some cleaning\n",
    "needed = True\n",
    "if needed :\n",
    "  %rm -R gpeg/\n",
    "  %rm context.py\n",
    "  %rm fastGraph.py\n",
    "  %rm node.py\n",
    "  %rm _recSystems.py\n",
    "  %rm trivialClf.py\n",
    "  %rm edge.py\n",
    "  %rm main.py \n",
    "  %rm scorer.py"
   ]
  },
  {
   "cell_type": "code",
   "execution_count": 7,
   "metadata": {
    "colab": {
     "base_uri": "https://localhost:8080/"
    },
    "id": "g-7LxOj7GZ-n",
    "outputId": "0404e2a6-b868-4688-e16f-a1b41f05334a"
   },
   "outputs": [
    {
     "name": "stdout",
     "output_type": "stream",
     "text": [
      "Cloning into 'gpeg'...\n",
      "remote: Enumerating objects: 330, done.\u001b[K\n",
      "remote: Counting objects: 100% (330/330), done.\u001b[K\n",
      "remote: Compressing objects: 100% (211/211), done.\u001b[K\n",
      "remote: Total 496 (delta 223), reused 202 (delta 117), pack-reused 166\u001b[K\n",
      "Receiving objects: 100% (496/496), 1.07 MiB | 3.50 MiB/s, done.\n",
      "Resolving deltas: 100% (311/311), done.\n"
     ]
    }
   ],
   "source": [
    "!git clone -b heavy https://github.com/TiphaineV/gpeg.git"
   ]
  },
  {
   "cell_type": "code",
   "execution_count": null,
   "metadata": {
    "colab": {
     "base_uri": "https://localhost:8080/"
    },
    "id": "YL9NNLW5sJ6X",
    "outputId": "4f4b1d2b-cd2b-47ab-b571-339aef75f328"
   },
   "outputs": [
    {
     "name": "stdout",
     "output_type": "stream",
     "text": [
      "/content/gpeg/fast_implementation\n"
     ]
    }
   ],
   "source": [
    "cd gpeg/fast_implementation/"
   ]
  },
  {
   "cell_type": "code",
   "execution_count": null,
   "metadata": {
    "id": "Gx_E85y5so7r"
   },
   "outputs": [],
   "source": [
    "# Modules\n",
    "import numpy as np\n",
    "from _recSystems import _Clf\n",
    "from fastGraph import Graph\n",
    "from trivialClf import TrivialClf\n",
    "from scorer import ClfScorer"
   ]
  },
  {
   "cell_type": "code",
   "execution_count": null,
   "metadata": {
    "id": "RoGtfIGwqZFy"
   },
   "outputs": [],
   "source": [
    "# -- Loading userData (heavy, takes around a minute)\n",
    "downloaded = drive.CreateFile({'id':userfile_id}) \n",
    "downloaded.GetContentFile('userData.csv')\n",
    "#userDataStream = pd.read_csv('userData.csv', chunksize= 1e6) # please don't change chuksize"
   ]
  },
  {
   "cell_type": "code",
   "execution_count": null,
   "metadata": {
    "id": "5vSxdZ02OGMS"
   },
   "outputs": [],
   "source": [
    "# -- Loading userMovieData (heavy)\n",
    "downloaded = drive.CreateFile({'id':userMovieFile_id}) \n",
    "downloaded.GetContentFile('userMovieData.csv')"
   ]
  },
  {
   "cell_type": "code",
   "execution_count": null,
   "metadata": {
    "id": "lbs-feAgKHWg"
   },
   "outputs": [],
   "source": [
    "# -- Loading adjency \n",
    "downloaded = drive.CreateFile({'id':adjency_id}) \n",
    "downloaded.GetContentFile('adjency-20M.npz')"
   ]
  },
  {
   "cell_type": "markdown",
   "metadata": {
    "id": "sb5CjzPuyITu"
   },
   "source": [
    "##Graph definition"
   ]
  },
  {
   "cell_type": "code",
   "execution_count": 5,
   "metadata": {
    "id": "BU7lBVwUTofb"
   },
   "outputs": [],
   "source": [
    "'''\n",
    "Builds the graph quickly\n",
    "'''\n",
    "#%% Modules\n",
    "#standard\n",
    "from abc import ABC, abstractmethod\n",
    "import time\n",
    "import numpy as np\n",
    "import numpy.random as rd\n",
    "import scipy.sparse as sparse\n",
    "import pandas as pd\n",
    "\n",
    "\n",
    "\n",
    "#%% FastGraph class\n",
    "class Graph:\n",
    "    def __init__(self, userData = None, nChunk= 5, chunksize= int(1e6), path= None):\n",
    "        '''\n",
    "        Parameters\n",
    "        --------\n",
    "        size: str\n",
    "            'small' (100K), 'heavy' (20M)\n",
    "        '''\n",
    "        # -- IO\n",
    "        print('Graph init ...')\n",
    "        if path != None:\n",
    "            self.load_adjency(path)\n",
    "        # -- Attributes\n",
    "        if path == None:\n",
    "            self.set_adjency(userData, nChunk= nChunk, chunksize= chunksize)\n",
    "\n",
    "        self.rowFormat = sparse.csr_matrix(self.adjency)\n",
    "        self.colFormat = sparse.csc_matrix(self.adjency)\n",
    "        pass\n",
    "\n",
    "    def get_user(self, userId: int):\n",
    "        return self.rowFormat[userId]\n",
    "\n",
    "    def get_movie(self, movieId: int):\n",
    "        return self.colFormat[:,movieId]\n",
    "\n",
    "    def load_adjency(self, path):\n",
    "        try:\n",
    "            self.adjency = sparse.load_npz(path)\n",
    "            self.edges = self.adjency.data\n",
    "\n",
    "        except FileNotFoundError:\n",
    "            print(\"file was not found, please try again or provide userData\")\n",
    "            raise\n",
    "        pass\n",
    "\n",
    "    def save_adjency(self, fileName):\n",
    "        sparse.save_npz(fileName, self.adjency)\n",
    "        pass\n",
    "\n",
    "\n",
    "    def set_adjency(self, userData, nChunk= np.inf, chunksize= int(1e6)):\n",
    "        ''''''\n",
    "        # -- Builds the matrix\n",
    "        rows = []\n",
    "        cols = []\n",
    "        data = []\n",
    "        for k,chunk in enumerate(userData):\n",
    "            print('Processing chunk {}.'.format(k))\n",
    "            for idx in range(len(chunk)):\n",
    "                # -- keys : userId, movieId.\n",
    "                row = chunk.iloc[idx]\n",
    "                # -- getting ids\n",
    "                userId, movieId= row['userId'], row['movieId']\n",
    "\n",
    "                # -- updating rows, cols, data\n",
    "                rows.append(userId)\n",
    "                cols.append(movieId)\n",
    "                data.append(k*chunksize+idx)\n",
    "\n",
    "            #### temp ####\n",
    "            if k == nChunk - 1:\n",
    "                break\n",
    "\n",
    "        adjency = sparse.coo_matrix((data, (rows, cols)), shape=(int(max(rows))+1, int(max(cols))+1))\n",
    "\n",
    "        self.adjency = adjency\n",
    "        self.edges = adjency.data\n",
    "        pass\n",
    "\n",
    "    def train_test_split(self, alpha: float):\n",
    "        '''\n",
    "        '''\n",
    "        # -- Checking parameter alpha\n",
    "        if alpha >= 1 or alpha <=0 or not(isinstance(alpha,float)):\n",
    "            raise ValueError('alpha must be a float in ]0,1[')\n",
    "\n",
    "        # -- Parameters\n",
    "        edges = self.edges\n",
    "        n = len(edges)\n",
    "        nTest = int(alpha * n)\n",
    "        indexes = list(range(n))\n",
    "\n",
    "        # -- Randomizing data\n",
    "        rd.shuffle(indexes)\n",
    "\n",
    "        # -- Getting the split\n",
    "        idxTrain, idxTest = sorted(indexes[nTest:]), sorted(indexes[:nTest])\n",
    "        nTrain, nTest = len(idxTrain), len(idxTest)\n",
    "\n",
    "        return edges[idxTrain], edges[idxTest]\n",
    "\n",
    "if __name__ == '__main__':\n",
    "    pass"
   ]
  },
  {
   "cell_type": "code",
   "execution_count": 6,
   "metadata": {
    "colab": {
     "base_uri": "https://localhost:8080/"
    },
    "id": "PcEwOHi8wxOd",
    "outputId": "7c79b4fb-00b5-4486-c9df-50b4176a0494"
   },
   "outputs": [
    {
     "name": "stdout",
     "output_type": "stream",
     "text": [
      "Graph init ...\n",
      "Processing chunk 0.\n"
     ]
    }
   ],
   "source": [
    "# -- Graph construction, nChunk * 1e6 rows are processed from movieLens 20M.\n",
    "# -- Takes around 2'30 for one chunk\n",
    "#%memit graph = Graph(path = 'adjency-20M.npz')\n",
    "userMovieData_byChunk = pd.read_csv('userMovieData.csv', chunksize= int(1e6))\n",
    "graph = Graph(userMovieData_byChunk)"
   ]
  },
  {
   "cell_type": "code",
   "execution_count": 258,
   "metadata": {
    "colab": {
     "base_uri": "https://localhost:8080/"
    },
    "id": "bTIdketOwZ3V",
    "outputId": "5979c8e9-87e1-475a-85fb-cabf190e9908"
   },
   "outputs": [
    {
     "name": "stdout",
     "output_type": "stream",
     "text": [
      "peak memory: 490.88 MiB, increment: 2.70 MiB\n",
      "CPU times: user 229 ms, sys: 26.2 ms, total: 256 ms\n",
      "Wall time: 383 ms\n"
     ]
    }
   ],
   "source": [
    "%%time\n",
    "# -- Split\n",
    "# -- Parameters\n",
    "alpha = 0.3 # test proportion in the split\n",
    "\n",
    "# -- train_test_split\n",
    "%memit trainEdges, testEdges = graph.train_test_split(alpha= alpha)"
   ]
  },
  {
   "cell_type": "markdown",
   "metadata": {
    "id": "YRz_JdNiVOm_"
   },
   "source": [
    "## Exploratory Data Analysis"
   ]
  },
  {
   "cell_type": "code",
   "execution_count": null,
   "metadata": {
    "id": "zbY2uldIWXAG"
   },
   "outputs": [],
   "source": [
    "import matplotlib.pyplot as plt\n",
    "%matplotlib inline"
   ]
  },
  {
   "cell_type": "code",
   "execution_count": null,
   "metadata": {
    "colab": {
     "base_uri": "https://localhost:8080/",
     "height": 356
    },
    "id": "tW0z3twkVYqI",
    "outputId": "e9621be3-610e-42bc-a390-12fead37dd57"
   },
   "outputs": [
    {
     "data": {
      "image/png": "[encoded data removed]",
      "text/plain": [
       "<Figure size 720x360 with 2 Axes>"
      ]
     },
     "metadata": {
      "needs_background": "light",
      "tags": []
     },
     "output_type": "display_data"
    }
   ],
   "source": [
    "n = graph.rowFormat.shape[0]\n",
    "degreeDist = [graph.rowFormat[i].nnz for i in range(1,n)]\n",
    "\n",
    "fig, (ax1, ax2) = plt.subplots(1,2, figsize=(10,5))\n",
    "fig.suptitle('User degree')\n",
    "ax1.hist(degreeDist, bins= 100)\n",
    "ax1.set_title('full range')\n",
    "ax2.hist(degreeDist, bins = 20, range=(0,100))\n",
    "ax2.set_title('0 -> 100')\n",
    "plt.show()"
   ]
  },
  {
   "cell_type": "code",
   "execution_count": null,
   "metadata": {
    "colab": {
     "base_uri": "https://localhost:8080/",
     "height": 356
    },
    "id": "-OkJmY2OWeQZ",
    "outputId": "17022730-c3a6-4128-846a-aa66ffa98e59"
   },
   "outputs": [
    {
     "data": {
      "image/png": "[encoded data removed]",
      "text/plain": [
       "<Figure size 720x360 with 2 Axes>"
      ]
     },
     "metadata": {
      "needs_background": "light",
      "tags": []
     },
     "output_type": "display_data"
    }
   ],
   "source": [
    "m = graph.colFormat.shape[1]\n",
    "degreeDist = [graph.colFormat[:,i].nnz for i in range(1,m)]\n",
    "\n",
    "fig, (ax1, ax2) = plt.subplots(1,2, figsize=(10,5))\n",
    "fig.suptitle('Movie degree')\n",
    "ax1.hist(degreeDist, bins= 100, range= (0, 70000), log=False)\n",
    "ax1.set_title('full range')\n",
    "ax2.hist(degreeDist, bins = 100, range=(1,20), log= False)\n",
    "ax2.set_title('0 -> 20')\n",
    "plt.show()"
   ]
  },
  {
   "cell_type": "code",
   "execution_count": null,
   "metadata": {
    "colab": {
     "base_uri": "https://localhost:8080/",
     "height": 282
    },
    "id": "hXyJzqUSkLYW",
    "outputId": "ee5bc2df-af58-4ba7-ff89-374e280926da"
   },
   "outputs": [
    {
     "name": "stdout",
     "output_type": "stream",
     "text": [
      "weight of the first degrees 0.6706652126499455\n"
     ]
    },
    {
     "data": {
      "image/png": "[encoded data removed]",
      "text/plain": [
       "<Figure size 432x288 with 1 Axes>"
      ]
     },
     "metadata": {
      "needs_background": "light",
      "tags": []
     },
     "output_type": "display_data"
    }
   ],
   "source": [
    "count = plt.hist(degreeDist, bins = 20, range=(1,20), log= False)[0]\n",
    "\n",
    "print('weight of the first degrees', np.sum(count[[0,1,2,3,4]]) /np.sum(count))"
   ]
  },
  {
   "cell_type": "markdown",
   "metadata": {
    "id": "9_6axDUtX4aW"
   },
   "source": [
    "**Remarks** : \n",
    "\n",
    "When predicting the class of an edge (user, movie) we assume we have gathered underlying data on the user or on the movie during the fit on the training data.\n",
    "However, because a lot of movies are seen once or twice, with a non negligible probability, we might have to classify an edge for which the movie has not been seen.\n",
    "\n",
    "**Solution** :\n",
    "\n",
    "A way to tackle this problem is to threshold the data set by the movie degrees."
   ]
  },
  {
   "cell_type": "code",
   "execution_count": null,
   "metadata": {
    "id": "YEkBmKqse1TG"
   },
   "outputs": [],
   "source": [
    "graph.adjency.row\n",
    "graph.adjency.col\n",
    "graph.edges"
   ]
  },
  {
   "cell_type": "markdown",
   "metadata": {
    "id": "IDSryYEzgD1Z"
   },
   "source": [
    "## Features"
   ]
  },
  {
   "cell_type": "code",
   "execution_count": 17,
   "metadata": {
    "id": "R-phcqKULtNB"
   },
   "outputs": [],
   "source": [
    "import pandas as pd\n",
    "import numpy as np"
   ]
  },
  {
   "cell_type": "code",
   "execution_count": 16,
   "metadata": {
    "id": "H9RQTn3FLYI6"
   },
   "outputs": [],
   "source": [
    "userMovieData = pd.read_csv('userMovieData.csv')"
   ]
  },
  {
   "cell_type": "code",
   "execution_count": 12,
   "metadata": {
    "id": "g3SRCz0nUxWU"
   },
   "outputs": [],
   "source": [
    "dfByUser = userMovieData.groupby('userId')\n",
    "dfByMovie = userMovieData.groupby('movieId')"
   ]
  },
  {
   "cell_type": "code",
   "execution_count": 8,
   "metadata": {
    "id": "0HUqd6CgTlAG"
   },
   "outputs": [],
   "source": [
    "class NodeFeatures:\n",
    "    '''See https://pandas.pydata.org/pandas-docs/stable/reference/groupby.html\n",
    "    '''  \n",
    "    Genres = ['Action', 'Adventure', 'Animation', \n",
    "        \"Children\", 'Comedy', 'Crime', 'Documentary', 'Drama',\n",
    "        'Fantasy', 'Film-Noir', 'Horror', 'IMAX', 'Musical', 'Mystery',\n",
    "        'Romance', 'Sci-Fi', 'Thriller', 'War', 'Western', '(no genres listed)']\n",
    "    \n",
    "    mn = 1900 # small = 1900, heavy = 1891\n",
    "    mx = 2015 # keep this one\n",
    "    Years = [\"{0} - {1}\".format(i, i + 9) for i in range(mn, mx, 10)] #caution\n",
    "\n",
    "    # -- user\n",
    "\n",
    "    @staticmethod \n",
    "    def user_mean(dfByUser:pd.DataFrame):\n",
    "        return dfByUser['rating'].agg(np.mean)\n",
    "    \n",
    "    @staticmethod\n",
    "    def user_std(dfByUser:pd.DataFrame):\n",
    "        return dfByUser['rating'].agg(np.std)\n",
    "    \n",
    "    @staticmethod\n",
    "    def user_degree(dfByUser:pd.DataFrame):\n",
    "        return dfByUser.size()\n",
    "      \n",
    "    @staticmethod \n",
    "    def user_corr_movie(dfByUser:pd.DataFrame):\n",
    "        # has no interest, but feasible\n",
    "        return dfByUser[['userId', 'movieId']].corr()['userId'][:, 'movieId']\n",
    "    \n",
    "    @staticmethod\n",
    "    def user_tag(dfByUser:pd.DataFrame):\n",
    "        return dfByUser['tag'].count()\n",
    "    \n",
    "    # -- movie\n",
    "\n",
    "    @staticmethod \n",
    "    def movie_mean(dfByMovie:pd.DataFrame):\n",
    "        return dfByMovie['rating'].agg(np.mean)\n",
    "    \n",
    "    @staticmethod\n",
    "    def movie_std(dfByMovie: pd.DataFrame):\n",
    "        return dfByMovie['rating'].std(ddof=0)\n",
    "    \n",
    "    @staticmethod\n",
    "    def movie_degree(dfByMovie: pd.DataFrame):\n",
    "        return dfByMovie.size()\n",
    "    \n",
    "    @staticmethod\n",
    "    def movie_tag(dfByMovie: pd.DataFrame):\n",
    "        return dfByMovie['tag'].count()\n",
    "\n",
    "    @classmethod\n",
    "    def movie_genre(cls, dfByMovie: pd.DataFrame):\n",
    "        return dfByMovie[cls.Genres].first()\n",
    "    \n",
    "    @classmethod\n",
    "    def movie_year(cls, dfByMovie: pd.DataFrame):\n",
    "        return dfByMovie[cls.Years].first()\n",
    "    \n",
    "    \n",
    "    # -- graph\n",
    "\n",
    "    @staticmethod\n",
    "    def f():\n",
    "      pass\n",
    "    \n"
   ]
  },
  {
   "cell_type": "code",
   "execution_count": 14,
   "metadata": {
    "colab": {
     "base_uri": "https://localhost:8080/"
    },
    "id": "Ghl9BsMMlb7X",
    "outputId": "e08b4715-2a9e-4920-8b63-43e0a4c6ede9"
   },
   "outputs": [
    {
     "name": "stdout",
     "output_type": "stream",
     "text": [
      "         1900 - 1909  1910 - 1919  ...  2000 - 2009  2010 - 2019\n",
      "movieId                            ...                          \n",
      "1                  0            0  ...            0            0\n",
      "2                  0            0  ...            0            0\n",
      "3                  0            0  ...            0            0\n",
      "4                  0            0  ...            0            0\n",
      "5                  0            0  ...            0            0\n",
      "\n",
      "[5 rows x 12 columns]\n",
      "         Action  Adventure  Animation  ...  War  Western  (no genres listed)\n",
      "movieId                                ...                                  \n",
      "1             0          1          1  ...    0        0                   0\n",
      "2             0          1          0  ...    0        0                   0\n",
      "3             0          0          0  ...    0        0                   0\n",
      "4             0          0          0  ...    0        0                   0\n",
      "5             0          0          0  ...    0        0                   0\n",
      "\n",
      "[5 rows x 20 columns]\n"
     ]
    }
   ],
   "source": [
    "print(NodeFeatures.movie_year(dfByMovie).head(5))\n",
    "print(NodeFeatures.movie_genre(dfByMovie).head(5))"
   ]
  },
  {
   "cell_type": "markdown",
   "metadata": {
    "id": "3qFJKn_9hWn9"
   },
   "source": [
    "## Training Classifiers"
   ]
  },
  {
   "cell_type": "markdown",
   "metadata": {
    "id": "KmnXgg5mpm-4"
   },
   "source": [
    "#### Abstract RecSystem"
   ]
  },
  {
   "cell_type": "code",
   "execution_count": 436,
   "metadata": {
    "id": "uIYzLd3URcSr"
   },
   "outputs": [],
   "source": [
    "'''\n",
    "Recommender systems abstract classes.\n",
    "Inspired by sklearn _base.py\n",
    "'''\n",
    "#%% Modules\n",
    "#standard\n",
    "from abc import ABC, abstractmethod\n",
    "import numpy as np\n",
    "import pandas as pd\n",
    "\n",
    "#%% Trivial Recommandation System\n",
    "class _RecSystem(ABC):\n",
    "    '''\n",
    "    Abstract class for recommender systems.\n",
    "    '''\n",
    "    def __init__(self):\n",
    "        pass\n",
    "\n",
    "    @abstractmethod\n",
    "    def fit(self, edges):\n",
    "        pass\n",
    "\n",
    "    @abstractmethod\n",
    "    def predict(self, edges, *args):\n",
    "        pass\n",
    "    pass\n",
    "\n",
    "\n",
    "\n",
    "class _Clf(_RecSystem):\n",
    "    '''\n",
    "    Classifier recommendation system\n",
    "    '''\n",
    "    def __init__(self, df, adj, likeThr):\n",
    "        super().__init__()\n",
    "        self.df = df\n",
    "        self.adj = adj\n",
    "        self.likeThr = likeThr\n",
    "        pass\n",
    "\n",
    "    def _get_feature_matrix(self, edges):\n",
    "        '''\n",
    "        '''\n",
    "        df = self.df.iloc[edges]\n",
    "        featFncts = self.featFncts\n",
    "\n",
    "        dfByUser = df.groupby('userId')\n",
    "        dfByMovie = df.groupby('movieId')\n",
    "\n",
    "        X = pd.DataFrame() \n",
    "        X['userId'] = df['userId']\n",
    "        X['movieId'] = df['movieId']\n",
    "        X_u = pd.DataFrame(index= df['userId'].drop_duplicates().sort_values())\n",
    "        X_m = pd.DataFrame(index= df['movieId'].drop_duplicates().sort_values())\n",
    "\n",
    "        k = 0\n",
    "        for featFnct in featFncts['user']:\n",
    "            dfU= featFnct(dfByUser)\n",
    "            if isinstance(dfU, pd.Series):\n",
    "              X_u['xu'+str(k)] = dfU\n",
    "              k+=1\n",
    "            \n",
    "            if isinstance(dfU, pd.DataFrame):\n",
    "              # comes from ohe\n",
    "              colU = X_u.columns\n",
    "              for col in colU:\n",
    "                X_u['xu'+str(k)] = dfU[col]\n",
    "                k += 1\n",
    "        k = 0\n",
    "        for featFnct in featFncts['movie']:\n",
    "            dfM= featFnct(dfByMovie)\n",
    "            if isinstance(dfM, pd.Series):\n",
    "              X_m['xm'+str(k)] = dfM\n",
    "              k+=1\n",
    "            \n",
    "            if isinstance(dfM, pd.DataFrame):\n",
    "              # comes from ohe\n",
    "              colM = dfM.columns\n",
    "              for col in colM:\n",
    "                X_m['xm'+str(k)] = dfM[col]\n",
    "                k += 1\n",
    "        \n",
    "        xTrain = X.merge(X_u, on='userId', how='left').merge(X_m, on='movieId', how='left')\n",
    "        xTrain.index = df.index\n",
    "        return xTrain, X_u, X_m\n",
    "\n",
    "    def _get_labels(self, edges):\n",
    "        return (self.df['rating'].iloc[edges] > self.likeThr).astype('uint8')\n",
    "\n",
    "    def _get_known_edges(self, edges):\n",
    "        ''' gets the edges for which we have data for both the user and the movie\n",
    "        '''\n",
    "        X_u = self.X_u\n",
    "        X_m = self.X_m\n",
    "        xTrain = self.xTrain\n",
    "        d = np.column_stack((self.adj.row, self.adj.col))[edges]\n",
    "        data = np.zeros((d.shape[0],), dtype=bool)\n",
    "\n",
    "        unicU, invU  = np.unique(self.adj.row[edges], return_inverse=True)\n",
    "        _, _, commU = np.intersect1d(self.xTrain['userId'], unicU, assume_unique=False, return_indices=True)\n",
    "        maskU = np.zeros_like(unicU, dtype= bool)\n",
    "        maskU[commU] = True\n",
    "        knownEdgeUser = np.where(maskU[invU])\n",
    "\n",
    "        unicM, invM  = np.unique(self.adj.col[edges], return_inverse=True)\n",
    "        _, _, commM = np.intersect1d(self.xTrain['movieId'], unicM, assume_unique=False, return_indices=True)\n",
    "        maskM = np.zeros_like(unicM, dtype= bool)\n",
    "        maskM[commM] = True\n",
    "        knownEdgeMovie = np.where(maskM[invM])\n",
    "        \n",
    "        # index in xTrain\n",
    "        knownE = edges[np.intersect1d(knownEdgeUser, knownEdgeMovie, assume_unique=True)]\n",
    "\n",
    "        knownU = self.adj.row[knownE]\n",
    "        knownM = self.adj.col[knownE]\n",
    "\n",
    "        # -- getting data on user\n",
    "        unicU = np.unique(knownU)\n",
    "        _,commX_u, _ = np.intersect1d(X_u.index, unicU, assume_unique=True, return_indices=True)\n",
    "        X_uT = X_u.iloc[commX_u] \n",
    "\n",
    "        # -- getting data on movies\n",
    "        unicM = np.unique(knownM)\n",
    "        _,commX_m, _ = np.intersect1d(X_m.index, unicM, assume_unique=True, return_indices=True)\n",
    "        X_mT = X_m.iloc[commX_m]\n",
    "\n",
    "        # -- Building the matrix\n",
    "        X = pd.DataFrame({'userId': knownU, 'movieId': knownM})\n",
    "        xTestKnown = X.merge(X_uT, on='userId', how='left').merge(X_mT, on='movieId', how='left')\n",
    "        xTestKnown.index = knownE\n",
    "        unknownE = np.setdiff1d(edges, knownE, assume_unique=True)\n",
    "        yTestUnknown = pd.Series(np.random.randint(2, size= len(unknownE)), index= unknownE)\n",
    "\n",
    "        return xTestKnown, yTestUnknown\n",
    "\n",
    "    @abstractmethod\n",
    "    def _predict_known(self, xTestKnown: pd.DataFrame):\n",
    "        '''Returns\n",
    "          -------\n",
    "          pd.DataFrame\n",
    "        '''\n",
    "        pass\n",
    "\n",
    "\n",
    "    def predict(self, edges):\n",
    "        '''predicts if the user likes the movie, without looking at the score of the edge.\n",
    "        \n",
    "        Parameters\n",
    "        -------\n",
    "            edges : list\n",
    "                edges of the sub-graph you consider for the prediction.\n",
    "        Returns\n",
    "        -------\n",
    "            pred: np.array of shape (nEdges,)\n",
    "                containing the predictions (0 or 1) in the same order\n",
    "        '''\n",
    "\n",
    "        xTestKnown, yTestUnknown = self._get_known_edges(edges)\n",
    "\n",
    "        # -- prediction\n",
    "        yTestKnown = self._predict_known(xTestKnown)\n",
    "\n",
    "        # -- check if it is a partition\n",
    "        assert len(set(yTestKnown.index).intersection(yTestUnknown.index)) ==0\n",
    "        assert len(set(yTestKnown.index).union(yTestUnknown.index)) == len(edges)\n",
    "        yPred = pd.Series(np.zeros_like(edges, dtype='uint8'), index=edges)\n",
    "        yPred[yTestKnown.index] = yTestKnown.astype('uint8')\n",
    "        yPred[yTestUnknown.index] = yTestUnknown.astype('uint8')\n",
    "        print('prop of classes chosen at random', len(yTestUnknown)/len(yPred))\n",
    "        return yPred\n",
    "    pass"
   ]
  },
  {
   "cell_type": "markdown",
   "metadata": {
    "id": "8p858_U8iOSX"
   },
   "source": [
    "### Linear Clf"
   ]
  },
  {
   "cell_type": "markdown",
   "metadata": {
    "id": "cYgH40c9SAiN"
   },
   "source": [
    "#### **Trivial**"
   ]
  },
  {
   "cell_type": "code",
   "execution_count": 498,
   "metadata": {
    "id": "USki46VNSDQ7"
   },
   "outputs": [],
   "source": [
    "'''\n",
    "Trivial Recommender System\n",
    "'''\n",
    "\n",
    "#%% Modules\n",
    "# standard\n",
    "import numpy as np\n",
    "\n",
    "#%% Trivial Recommendation System\n",
    "class TrivialClf(_Clf):\n",
    "    def __init__(self, df, adj, likeThr):\n",
    "        self.set_featFncts()\n",
    "        super().__init__(df,adj, likeThr)\n",
    "        pass\n",
    "\n",
    "    def set_featFncts(self):\n",
    "        # -- setting feature functions\n",
    "        self.featFncts = {'user': [NodeFeatures.user_mean],\n",
    "              'movie': [NodeFeatures.movie_mean]\n",
    "              }\n",
    "\n",
    "    def fit(self, edges):\n",
    "        '''Nothing parameter to fit for this clf\n",
    "        '''\n",
    "        self.xTrain, self.X_u, self.X_m = self._get_feature_matrix(edges)\n",
    "        pass\n",
    "\n",
    "    def _predict_known(self, xTestKnown):\n",
    "        #return xTestKnown['xu0'] < xTestKnown['xm0']\n",
    "        return xTestKnown['xm0'] > self.likeThr\n"
   ]
  },
  {
   "cell_type": "code",
   "execution_count": 491,
   "metadata": {
    "id": "pgeGI3zqRAYa"
   },
   "outputs": [],
   "source": [
    "def set_featFncts(self):\n",
    "    # -- adding movie degree to see over how many nodes the mean is taken\n",
    "    self.featFncts = {'user': [NodeFeatures.user_mean],\n",
    "          'movie': [NodeFeatures.movie_mean, NodeFeatures.movie_degree]\n",
    "          }\n",
    "TrivialClf.set_featFncts= set_featFncts"
   ]
  },
  {
   "cell_type": "code",
   "execution_count": 492,
   "metadata": {
    "id": "10Xxcq_nMkgL"
   },
   "outputs": [],
   "source": [
    "likeThr = 2.9\n",
    "clf = TrivialClf(userMovieData, graph.adjency, likeThr = likeThr)"
   ]
  },
  {
   "cell_type": "code",
   "execution_count": 493,
   "metadata": {
    "id": "Tr7IDRrQMsGr"
   },
   "outputs": [],
   "source": [
    "clf.fit(trainEdges)"
   ]
  },
  {
   "cell_type": "code",
   "execution_count": 494,
   "metadata": {
    "colab": {
     "base_uri": "https://localhost:8080/"
    },
    "id": "LJmvT99zMvK3",
    "outputId": "4bc97c5c-458c-423c-dfe3-0e38b1f65434"
   },
   "outputs": [
    {
     "name": "stdout",
     "output_type": "stream",
     "text": [
      "prop of classes chosen at random 0.04300826446280992\n"
     ]
    }
   ],
   "source": [
    "yPred = clf.predict(testEdges)\n",
    "yTrue = clf._get_labels(testEdges)"
   ]
  },
  {
   "cell_type": "code",
   "execution_count": 495,
   "metadata": {
    "colab": {
     "base_uri": "https://localhost:8080/"
    },
    "id": "-XYsGkB0NTBI",
    "outputId": "08b492cb-a5ef-48b3-98ab-0b7166a3759f"
   },
   "outputs": [
    {
     "name": "stdout",
     "output_type": "stream",
     "text": [
      "17891    1\n",
      "66319    1\n",
      "12759    1\n",
      "45283    1\n",
      "49323    0\n",
      "34687    1\n",
      "15427    1\n",
      "21966    0\n",
      "11445    1\n",
      "83169    1\n",
      "dtype: uint8\n",
      "17891    1\n",
      "66319    1\n",
      "12759    1\n",
      "45283    0\n",
      "49323    1\n",
      "34687    1\n",
      "15427    1\n",
      "21966    1\n",
      "11445    1\n",
      "83169    1\n",
      "Name: rating, dtype: uint8\n"
     ]
    }
   ],
   "source": [
    "size = 10\n",
    "sample = rd.choice(range(len(testEdges)), size=size)\n",
    "print(yPred.iloc[sample])\n",
    "print(yTrue.iloc[sample])"
   ]
  },
  {
   "cell_type": "code",
   "execution_count": 496,
   "metadata": {
    "colab": {
     "base_uri": "https://localhost:8080/"
    },
    "id": "bmQSlY0NNleo",
    "outputId": "d7877362-4a7e-4246-b3b0-f70555f78fb0"
   },
   "outputs": [
    {
     "name": "stdout",
     "output_type": "stream",
     "text": [
      "       userId  movieId  xu0  xm0  xm1\n",
      "17891     111   179211  3.5  3.5    1\n",
      "66319     427     5107  3.0  3.0    1\n",
      "12759      82      380  4.0  4.0    1\n",
      "45283     298    85022  2.5  2.5    1\n",
      "49323     318     7228  3.0  3.0    1\n",
      "34687     232    65216  4.0  4.0    1\n",
      "15427     100     4246  4.5  4.5    1\n",
      "21966     143   103606  4.0  4.0    1\n",
      "11445      68    63131  4.5  4.5    1\n",
      "83169     526   176413  4.5  4.5    1\n"
     ]
    }
   ],
   "source": [
    "print(clf._get_feature_matrix(testEdges[sample])[0])"
   ]
  },
  {
   "cell_type": "markdown",
   "metadata": {
    "id": "0AzjyxU2sCHh"
   },
   "source": [
    "#### Tests (using trivial Clf)"
   ]
  },
  {
   "cell_type": "code",
   "execution_count": 208,
   "metadata": {
    "id": "Cx9tYvCZsFz4"
   },
   "outputs": [],
   "source": [
    "likeThr = 3.7\n",
    "clf = TrivialClf(userMovieData, graph.adjency, likeThr = likeThr)"
   ]
  },
  {
   "cell_type": "code",
   "execution_count": 209,
   "metadata": {
    "colab": {
     "base_uri": "https://localhost:8080/"
    },
    "id": "8HEQWZr2ss_j",
    "outputId": "3cab8c9d-1bb8-4f24-b737-78487fe6bdb2"
   },
   "outputs": [
    {
     "data": {
      "text/plain": [
       "(7, 1219)"
      ]
     },
     "execution_count": 209,
     "metadata": {
      "tags": []
     },
     "output_type": "execute_result"
    }
   ],
   "source": [
    "# -- edge / adj correspondancy\n",
    "edgeIdx = 900\n",
    "graph.adjency.row[edgeIdx], graph.adjency.col[edgeIdx]"
   ]
  },
  {
   "cell_type": "code",
   "execution_count": 210,
   "metadata": {
    "colab": {
     "base_uri": "https://localhost:8080/",
     "height": 0
    },
    "id": "4KpEAi0JsWeb",
    "outputId": "c5e31deb-2fb7-449a-f44e-8a8a4df03e88"
   },
   "outputs": [
    {
     "data": {
      "text/html": [
       "<div>\n",
       "<style scoped>\n",
       "    .dataframe tbody tr th:only-of-type {\n",
       "        vertical-align: middle;\n",
       "    }\n",
       "\n",
       "    .dataframe tbody tr th {\n",
       "        vertical-align: top;\n",
       "    }\n",
       "\n",
       "    .dataframe thead th {\n",
       "        text-align: right;\n",
       "    }\n",
       "</style>\n",
       "<table border=\"1\" class=\"dataframe\">\n",
       "  <thead>\n",
       "    <tr style=\"text-align: right;\">\n",
       "      <th></th>\n",
       "      <th>Unnamed: 0</th>\n",
       "      <th>userId</th>\n",
       "      <th>movieId</th>\n",
       "      <th>rating</th>\n",
       "      <th>timestamp_rating</th>\n",
       "      <th>tag</th>\n",
       "      <th>timestamp_tag</th>\n",
       "      <th>1900 - 1909</th>\n",
       "      <th>1910 - 1919</th>\n",
       "      <th>1920 - 1929</th>\n",
       "      <th>1930 - 1939</th>\n",
       "      <th>1940 - 1949</th>\n",
       "      <th>1950 - 1959</th>\n",
       "      <th>1960 - 1969</th>\n",
       "      <th>1970 - 1979</th>\n",
       "      <th>1980 - 1989</th>\n",
       "      <th>1990 - 1999</th>\n",
       "      <th>2000 - 2009</th>\n",
       "      <th>2010 - 2019</th>\n",
       "      <th>Action</th>\n",
       "      <th>Adventure</th>\n",
       "      <th>Animation</th>\n",
       "      <th>Children</th>\n",
       "      <th>Comedy</th>\n",
       "      <th>Crime</th>\n",
       "      <th>Documentary</th>\n",
       "      <th>Drama</th>\n",
       "      <th>Fantasy</th>\n",
       "      <th>Film-Noir</th>\n",
       "      <th>Horror</th>\n",
       "      <th>IMAX</th>\n",
       "      <th>Musical</th>\n",
       "      <th>Mystery</th>\n",
       "      <th>Romance</th>\n",
       "      <th>Sci-Fi</th>\n",
       "      <th>Thriller</th>\n",
       "      <th>War</th>\n",
       "      <th>Western</th>\n",
       "      <th>(no genres listed)</th>\n",
       "    </tr>\n",
       "  </thead>\n",
       "  <tbody>\n",
       "    <tr>\n",
       "      <th>899</th>\n",
       "      <td>899</td>\n",
       "      <td>7</td>\n",
       "      <td>1210</td>\n",
       "      <td>4.0</td>\n",
       "      <td>1106635965</td>\n",
       "      <td>NaN</td>\n",
       "      <td>NaN</td>\n",
       "      <td>0</td>\n",
       "      <td>0</td>\n",
       "      <td>0</td>\n",
       "      <td>0</td>\n",
       "      <td>0</td>\n",
       "      <td>0</td>\n",
       "      <td>0</td>\n",
       "      <td>0</td>\n",
       "      <td>1</td>\n",
       "      <td>0</td>\n",
       "      <td>0</td>\n",
       "      <td>0</td>\n",
       "      <td>1</td>\n",
       "      <td>1</td>\n",
       "      <td>0</td>\n",
       "      <td>0</td>\n",
       "      <td>0</td>\n",
       "      <td>0</td>\n",
       "      <td>0</td>\n",
       "      <td>0</td>\n",
       "      <td>0</td>\n",
       "      <td>0</td>\n",
       "      <td>0</td>\n",
       "      <td>0</td>\n",
       "      <td>0</td>\n",
       "      <td>0</td>\n",
       "      <td>0</td>\n",
       "      <td>1</td>\n",
       "      <td>0</td>\n",
       "      <td>0</td>\n",
       "      <td>0</td>\n",
       "      <td>0</td>\n",
       "    </tr>\n",
       "    <tr>\n",
       "      <th>900</th>\n",
       "      <td>900</td>\n",
       "      <td>7</td>\n",
       "      <td>1219</td>\n",
       "      <td>5.0</td>\n",
       "      <td>1106635496</td>\n",
       "      <td>NaN</td>\n",
       "      <td>NaN</td>\n",
       "      <td>0</td>\n",
       "      <td>0</td>\n",
       "      <td>0</td>\n",
       "      <td>0</td>\n",
       "      <td>0</td>\n",
       "      <td>0</td>\n",
       "      <td>1</td>\n",
       "      <td>0</td>\n",
       "      <td>0</td>\n",
       "      <td>0</td>\n",
       "      <td>0</td>\n",
       "      <td>0</td>\n",
       "      <td>0</td>\n",
       "      <td>0</td>\n",
       "      <td>0</td>\n",
       "      <td>0</td>\n",
       "      <td>0</td>\n",
       "      <td>1</td>\n",
       "      <td>0</td>\n",
       "      <td>0</td>\n",
       "      <td>0</td>\n",
       "      <td>0</td>\n",
       "      <td>1</td>\n",
       "      <td>0</td>\n",
       "      <td>0</td>\n",
       "      <td>0</td>\n",
       "      <td>0</td>\n",
       "      <td>0</td>\n",
       "      <td>0</td>\n",
       "      <td>0</td>\n",
       "      <td>0</td>\n",
       "      <td>0</td>\n",
       "    </tr>\n",
       "    <tr>\n",
       "      <th>901</th>\n",
       "      <td>901</td>\n",
       "      <td>7</td>\n",
       "      <td>1220</td>\n",
       "      <td>4.5</td>\n",
       "      <td>1106635464</td>\n",
       "      <td>NaN</td>\n",
       "      <td>NaN</td>\n",
       "      <td>0</td>\n",
       "      <td>0</td>\n",
       "      <td>0</td>\n",
       "      <td>0</td>\n",
       "      <td>0</td>\n",
       "      <td>0</td>\n",
       "      <td>0</td>\n",
       "      <td>0</td>\n",
       "      <td>1</td>\n",
       "      <td>0</td>\n",
       "      <td>0</td>\n",
       "      <td>0</td>\n",
       "      <td>1</td>\n",
       "      <td>0</td>\n",
       "      <td>0</td>\n",
       "      <td>0</td>\n",
       "      <td>1</td>\n",
       "      <td>0</td>\n",
       "      <td>0</td>\n",
       "      <td>0</td>\n",
       "      <td>0</td>\n",
       "      <td>0</td>\n",
       "      <td>0</td>\n",
       "      <td>0</td>\n",
       "      <td>1</td>\n",
       "      <td>0</td>\n",
       "      <td>0</td>\n",
       "      <td>0</td>\n",
       "      <td>0</td>\n",
       "      <td>0</td>\n",
       "      <td>0</td>\n",
       "      <td>0</td>\n",
       "    </tr>\n",
       "  </tbody>\n",
       "</table>\n",
       "</div>"
      ],
      "text/plain": [
       "     Unnamed: 0  userId  movieId  ...  War  Western (no genres listed)\n",
       "899         899       7     1210  ...    0        0                  0\n",
       "900         900       7     1219  ...    0        0                  0\n",
       "901         901       7     1220  ...    0        0                  0\n",
       "\n",
       "[3 rows x 39 columns]"
      ]
     },
     "execution_count": 210,
     "metadata": {
      "tags": []
     },
     "output_type": "execute_result"
    }
   ],
   "source": [
    "userMovieData.iloc[edgeIdx-1:edgeIdx+2]"
   ]
  },
  {
   "cell_type": "code",
   "execution_count": 211,
   "metadata": {
    "colab": {
     "base_uri": "https://localhost:8080/"
    },
    "id": "zOXN1JPSt_yw",
    "outputId": "5a2272ca-96f0-4f1f-aaee-4c824d30a679"
   },
   "outputs": [
    {
     "name": "stdout",
     "output_type": "stream",
     "text": [
      "501    1\n",
      "502    1\n",
      "503    0\n",
      "504    0\n",
      "505    1\n",
      "506    0\n",
      "507    1\n",
      "508    0\n",
      "509    0\n",
      "510    0\n",
      "511    1\n",
      "Name: rating, dtype: uint8\n"
     ]
    }
   ],
   "source": [
    "# -- _get_labels\n",
    "print(clf._get_labels(graph.edges[501:512]))"
   ]
  },
  {
   "cell_type": "code",
   "execution_count": 212,
   "metadata": {
    "colab": {
     "base_uri": "https://localhost:8080/",
     "height": 0
    },
    "id": "4Z4dRWAjuR0W",
    "outputId": "42a47e61-386e-4e44-988d-75be126242e3"
   },
   "outputs": [
    {
     "data": {
      "text/html": [
       "<div>\n",
       "<style scoped>\n",
       "    .dataframe tbody tr th:only-of-type {\n",
       "        vertical-align: middle;\n",
       "    }\n",
       "\n",
       "    .dataframe tbody tr th {\n",
       "        vertical-align: top;\n",
       "    }\n",
       "\n",
       "    .dataframe thead th {\n",
       "        text-align: right;\n",
       "    }\n",
       "</style>\n",
       "<table border=\"1\" class=\"dataframe\">\n",
       "  <thead>\n",
       "    <tr style=\"text-align: right;\">\n",
       "      <th></th>\n",
       "      <th>Unnamed: 0</th>\n",
       "      <th>userId</th>\n",
       "      <th>movieId</th>\n",
       "      <th>rating</th>\n",
       "      <th>timestamp_rating</th>\n",
       "      <th>tag</th>\n",
       "      <th>timestamp_tag</th>\n",
       "      <th>1900 - 1909</th>\n",
       "      <th>1910 - 1919</th>\n",
       "      <th>1920 - 1929</th>\n",
       "      <th>1930 - 1939</th>\n",
       "      <th>1940 - 1949</th>\n",
       "      <th>1950 - 1959</th>\n",
       "      <th>1960 - 1969</th>\n",
       "      <th>1970 - 1979</th>\n",
       "      <th>1980 - 1989</th>\n",
       "      <th>1990 - 1999</th>\n",
       "      <th>2000 - 2009</th>\n",
       "      <th>2010 - 2019</th>\n",
       "      <th>Action</th>\n",
       "      <th>Adventure</th>\n",
       "      <th>Animation</th>\n",
       "      <th>Children</th>\n",
       "      <th>Comedy</th>\n",
       "      <th>Crime</th>\n",
       "      <th>Documentary</th>\n",
       "      <th>Drama</th>\n",
       "      <th>Fantasy</th>\n",
       "      <th>Film-Noir</th>\n",
       "      <th>Horror</th>\n",
       "      <th>IMAX</th>\n",
       "      <th>Musical</th>\n",
       "      <th>Mystery</th>\n",
       "      <th>Romance</th>\n",
       "      <th>Sci-Fi</th>\n",
       "      <th>Thriller</th>\n",
       "      <th>War</th>\n",
       "      <th>Western</th>\n",
       "      <th>(no genres listed)</th>\n",
       "    </tr>\n",
       "  </thead>\n",
       "  <tbody>\n",
       "    <tr>\n",
       "      <th>501</th>\n",
       "      <td>501</td>\n",
       "      <td>4</td>\n",
       "      <td>4239</td>\n",
       "      <td>5.0</td>\n",
       "      <td>986848685</td>\n",
       "      <td>NaN</td>\n",
       "      <td>NaN</td>\n",
       "      <td>0</td>\n",
       "      <td>0</td>\n",
       "      <td>0</td>\n",
       "      <td>0</td>\n",
       "      <td>0</td>\n",
       "      <td>0</td>\n",
       "      <td>0</td>\n",
       "      <td>0</td>\n",
       "      <td>0</td>\n",
       "      <td>0</td>\n",
       "      <td>1</td>\n",
       "      <td>0</td>\n",
       "      <td>0</td>\n",
       "      <td>0</td>\n",
       "      <td>0</td>\n",
       "      <td>0</td>\n",
       "      <td>0</td>\n",
       "      <td>1</td>\n",
       "      <td>0</td>\n",
       "      <td>1</td>\n",
       "      <td>0</td>\n",
       "      <td>0</td>\n",
       "      <td>0</td>\n",
       "      <td>0</td>\n",
       "      <td>0</td>\n",
       "      <td>0</td>\n",
       "      <td>0</td>\n",
       "      <td>0</td>\n",
       "      <td>0</td>\n",
       "      <td>0</td>\n",
       "      <td>0</td>\n",
       "      <td>0</td>\n",
       "    </tr>\n",
       "    <tr>\n",
       "      <th>502</th>\n",
       "      <td>502</td>\n",
       "      <td>4</td>\n",
       "      <td>4246</td>\n",
       "      <td>4.0</td>\n",
       "      <td>1007574542</td>\n",
       "      <td>NaN</td>\n",
       "      <td>NaN</td>\n",
       "      <td>0</td>\n",
       "      <td>0</td>\n",
       "      <td>0</td>\n",
       "      <td>0</td>\n",
       "      <td>0</td>\n",
       "      <td>0</td>\n",
       "      <td>0</td>\n",
       "      <td>0</td>\n",
       "      <td>0</td>\n",
       "      <td>0</td>\n",
       "      <td>1</td>\n",
       "      <td>0</td>\n",
       "      <td>0</td>\n",
       "      <td>0</td>\n",
       "      <td>0</td>\n",
       "      <td>0</td>\n",
       "      <td>1</td>\n",
       "      <td>0</td>\n",
       "      <td>0</td>\n",
       "      <td>1</td>\n",
       "      <td>0</td>\n",
       "      <td>0</td>\n",
       "      <td>0</td>\n",
       "      <td>0</td>\n",
       "      <td>0</td>\n",
       "      <td>0</td>\n",
       "      <td>1</td>\n",
       "      <td>0</td>\n",
       "      <td>0</td>\n",
       "      <td>0</td>\n",
       "      <td>0</td>\n",
       "      <td>0</td>\n",
       "    </tr>\n",
       "    <tr>\n",
       "      <th>503</th>\n",
       "      <td>503</td>\n",
       "      <td>4</td>\n",
       "      <td>4252</td>\n",
       "      <td>3.0</td>\n",
       "      <td>1007569465</td>\n",
       "      <td>NaN</td>\n",
       "      <td>NaN</td>\n",
       "      <td>0</td>\n",
       "      <td>0</td>\n",
       "      <td>0</td>\n",
       "      <td>0</td>\n",
       "      <td>0</td>\n",
       "      <td>0</td>\n",
       "      <td>0</td>\n",
       "      <td>0</td>\n",
       "      <td>0</td>\n",
       "      <td>0</td>\n",
       "      <td>1</td>\n",
       "      <td>0</td>\n",
       "      <td>0</td>\n",
       "      <td>0</td>\n",
       "      <td>0</td>\n",
       "      <td>0</td>\n",
       "      <td>0</td>\n",
       "      <td>0</td>\n",
       "      <td>0</td>\n",
       "      <td>1</td>\n",
       "      <td>0</td>\n",
       "      <td>0</td>\n",
       "      <td>0</td>\n",
       "      <td>0</td>\n",
       "      <td>0</td>\n",
       "      <td>0</td>\n",
       "      <td>0</td>\n",
       "      <td>0</td>\n",
       "      <td>0</td>\n",
       "      <td>0</td>\n",
       "      <td>0</td>\n",
       "      <td>0</td>\n",
       "    </tr>\n",
       "    <tr>\n",
       "      <th>504</th>\n",
       "      <td>504</td>\n",
       "      <td>4</td>\n",
       "      <td>4260</td>\n",
       "      <td>2.0</td>\n",
       "      <td>1007569424</td>\n",
       "      <td>NaN</td>\n",
       "      <td>NaN</td>\n",
       "      <td>0</td>\n",
       "      <td>0</td>\n",
       "      <td>0</td>\n",
       "      <td>0</td>\n",
       "      <td>0</td>\n",
       "      <td>0</td>\n",
       "      <td>0</td>\n",
       "      <td>0</td>\n",
       "      <td>0</td>\n",
       "      <td>0</td>\n",
       "      <td>1</td>\n",
       "      <td>0</td>\n",
       "      <td>0</td>\n",
       "      <td>0</td>\n",
       "      <td>0</td>\n",
       "      <td>0</td>\n",
       "      <td>0</td>\n",
       "      <td>0</td>\n",
       "      <td>0</td>\n",
       "      <td>1</td>\n",
       "      <td>0</td>\n",
       "      <td>0</td>\n",
       "      <td>0</td>\n",
       "      <td>0</td>\n",
       "      <td>0</td>\n",
       "      <td>0</td>\n",
       "      <td>0</td>\n",
       "      <td>0</td>\n",
       "      <td>0</td>\n",
       "      <td>0</td>\n",
       "      <td>0</td>\n",
       "      <td>0</td>\n",
       "    </tr>\n",
       "    <tr>\n",
       "      <th>505</th>\n",
       "      <td>505</td>\n",
       "      <td>4</td>\n",
       "      <td>4273</td>\n",
       "      <td>4.0</td>\n",
       "      <td>1007574470</td>\n",
       "      <td>NaN</td>\n",
       "      <td>NaN</td>\n",
       "      <td>0</td>\n",
       "      <td>0</td>\n",
       "      <td>0</td>\n",
       "      <td>0</td>\n",
       "      <td>0</td>\n",
       "      <td>0</td>\n",
       "      <td>0</td>\n",
       "      <td>0</td>\n",
       "      <td>0</td>\n",
       "      <td>0</td>\n",
       "      <td>1</td>\n",
       "      <td>0</td>\n",
       "      <td>0</td>\n",
       "      <td>0</td>\n",
       "      <td>0</td>\n",
       "      <td>0</td>\n",
       "      <td>0</td>\n",
       "      <td>0</td>\n",
       "      <td>0</td>\n",
       "      <td>1</td>\n",
       "      <td>0</td>\n",
       "      <td>0</td>\n",
       "      <td>0</td>\n",
       "      <td>0</td>\n",
       "      <td>0</td>\n",
       "      <td>0</td>\n",
       "      <td>0</td>\n",
       "      <td>0</td>\n",
       "      <td>0</td>\n",
       "      <td>0</td>\n",
       "      <td>0</td>\n",
       "      <td>0</td>\n",
       "    </tr>\n",
       "    <tr>\n",
       "      <th>506</th>\n",
       "      <td>506</td>\n",
       "      <td>4</td>\n",
       "      <td>4308</td>\n",
       "      <td>1.0</td>\n",
       "      <td>1007569465</td>\n",
       "      <td>NaN</td>\n",
       "      <td>NaN</td>\n",
       "      <td>0</td>\n",
       "      <td>0</td>\n",
       "      <td>0</td>\n",
       "      <td>0</td>\n",
       "      <td>0</td>\n",
       "      <td>0</td>\n",
       "      <td>0</td>\n",
       "      <td>0</td>\n",
       "      <td>0</td>\n",
       "      <td>0</td>\n",
       "      <td>1</td>\n",
       "      <td>0</td>\n",
       "      <td>0</td>\n",
       "      <td>0</td>\n",
       "      <td>0</td>\n",
       "      <td>0</td>\n",
       "      <td>0</td>\n",
       "      <td>0</td>\n",
       "      <td>0</td>\n",
       "      <td>1</td>\n",
       "      <td>0</td>\n",
       "      <td>0</td>\n",
       "      <td>0</td>\n",
       "      <td>0</td>\n",
       "      <td>1</td>\n",
       "      <td>0</td>\n",
       "      <td>1</td>\n",
       "      <td>0</td>\n",
       "      <td>0</td>\n",
       "      <td>0</td>\n",
       "      <td>0</td>\n",
       "      <td>0</td>\n",
       "    </tr>\n",
       "    <tr>\n",
       "      <th>507</th>\n",
       "      <td>507</td>\n",
       "      <td>4</td>\n",
       "      <td>4347</td>\n",
       "      <td>4.0</td>\n",
       "      <td>1007569586</td>\n",
       "      <td>NaN</td>\n",
       "      <td>NaN</td>\n",
       "      <td>0</td>\n",
       "      <td>0</td>\n",
       "      <td>0</td>\n",
       "      <td>0</td>\n",
       "      <td>0</td>\n",
       "      <td>0</td>\n",
       "      <td>0</td>\n",
       "      <td>0</td>\n",
       "      <td>0</td>\n",
       "      <td>0</td>\n",
       "      <td>1</td>\n",
       "      <td>0</td>\n",
       "      <td>0</td>\n",
       "      <td>0</td>\n",
       "      <td>0</td>\n",
       "      <td>0</td>\n",
       "      <td>1</td>\n",
       "      <td>0</td>\n",
       "      <td>0</td>\n",
       "      <td>1</td>\n",
       "      <td>0</td>\n",
       "      <td>0</td>\n",
       "      <td>0</td>\n",
       "      <td>0</td>\n",
       "      <td>0</td>\n",
       "      <td>0</td>\n",
       "      <td>0</td>\n",
       "      <td>0</td>\n",
       "      <td>0</td>\n",
       "      <td>0</td>\n",
       "      <td>0</td>\n",
       "      <td>0</td>\n",
       "    </tr>\n",
       "    <tr>\n",
       "      <th>508</th>\n",
       "      <td>508</td>\n",
       "      <td>4</td>\n",
       "      <td>4381</td>\n",
       "      <td>3.0</td>\n",
       "      <td>1007574509</td>\n",
       "      <td>NaN</td>\n",
       "      <td>NaN</td>\n",
       "      <td>0</td>\n",
       "      <td>0</td>\n",
       "      <td>0</td>\n",
       "      <td>0</td>\n",
       "      <td>0</td>\n",
       "      <td>0</td>\n",
       "      <td>0</td>\n",
       "      <td>0</td>\n",
       "      <td>0</td>\n",
       "      <td>0</td>\n",
       "      <td>1</td>\n",
       "      <td>0</td>\n",
       "      <td>0</td>\n",
       "      <td>0</td>\n",
       "      <td>0</td>\n",
       "      <td>0</td>\n",
       "      <td>1</td>\n",
       "      <td>0</td>\n",
       "      <td>0</td>\n",
       "      <td>0</td>\n",
       "      <td>0</td>\n",
       "      <td>0</td>\n",
       "      <td>0</td>\n",
       "      <td>0</td>\n",
       "      <td>0</td>\n",
       "      <td>0</td>\n",
       "      <td>0</td>\n",
       "      <td>0</td>\n",
       "      <td>0</td>\n",
       "      <td>0</td>\n",
       "      <td>0</td>\n",
       "      <td>0</td>\n",
       "    </tr>\n",
       "    <tr>\n",
       "      <th>509</th>\n",
       "      <td>509</td>\n",
       "      <td>4</td>\n",
       "      <td>4641</td>\n",
       "      <td>1.0</td>\n",
       "      <td>1007569586</td>\n",
       "      <td>NaN</td>\n",
       "      <td>NaN</td>\n",
       "      <td>0</td>\n",
       "      <td>0</td>\n",
       "      <td>0</td>\n",
       "      <td>0</td>\n",
       "      <td>0</td>\n",
       "      <td>0</td>\n",
       "      <td>0</td>\n",
       "      <td>0</td>\n",
       "      <td>0</td>\n",
       "      <td>0</td>\n",
       "      <td>1</td>\n",
       "      <td>0</td>\n",
       "      <td>0</td>\n",
       "      <td>0</td>\n",
       "      <td>0</td>\n",
       "      <td>0</td>\n",
       "      <td>1</td>\n",
       "      <td>0</td>\n",
       "      <td>0</td>\n",
       "      <td>1</td>\n",
       "      <td>0</td>\n",
       "      <td>0</td>\n",
       "      <td>0</td>\n",
       "      <td>0</td>\n",
       "      <td>0</td>\n",
       "      <td>0</td>\n",
       "      <td>0</td>\n",
       "      <td>0</td>\n",
       "      <td>0</td>\n",
       "      <td>0</td>\n",
       "      <td>0</td>\n",
       "      <td>0</td>\n",
       "    </tr>\n",
       "    <tr>\n",
       "      <th>510</th>\n",
       "      <td>510</td>\n",
       "      <td>4</td>\n",
       "      <td>4741</td>\n",
       "      <td>3.0</td>\n",
       "      <td>1007574532</td>\n",
       "      <td>NaN</td>\n",
       "      <td>NaN</td>\n",
       "      <td>0</td>\n",
       "      <td>0</td>\n",
       "      <td>0</td>\n",
       "      <td>0</td>\n",
       "      <td>0</td>\n",
       "      <td>0</td>\n",
       "      <td>0</td>\n",
       "      <td>0</td>\n",
       "      <td>0</td>\n",
       "      <td>0</td>\n",
       "      <td>1</td>\n",
       "      <td>0</td>\n",
       "      <td>0</td>\n",
       "      <td>0</td>\n",
       "      <td>0</td>\n",
       "      <td>0</td>\n",
       "      <td>1</td>\n",
       "      <td>0</td>\n",
       "      <td>0</td>\n",
       "      <td>1</td>\n",
       "      <td>0</td>\n",
       "      <td>0</td>\n",
       "      <td>0</td>\n",
       "      <td>0</td>\n",
       "      <td>0</td>\n",
       "      <td>0</td>\n",
       "      <td>1</td>\n",
       "      <td>0</td>\n",
       "      <td>0</td>\n",
       "      <td>0</td>\n",
       "      <td>0</td>\n",
       "      <td>0</td>\n",
       "    </tr>\n",
       "    <tr>\n",
       "      <th>511</th>\n",
       "      <td>511</td>\n",
       "      <td>4</td>\n",
       "      <td>4765</td>\n",
       "      <td>5.0</td>\n",
       "      <td>1007569445</td>\n",
       "      <td>NaN</td>\n",
       "      <td>NaN</td>\n",
       "      <td>0</td>\n",
       "      <td>0</td>\n",
       "      <td>0</td>\n",
       "      <td>0</td>\n",
       "      <td>0</td>\n",
       "      <td>0</td>\n",
       "      <td>0</td>\n",
       "      <td>0</td>\n",
       "      <td>0</td>\n",
       "      <td>0</td>\n",
       "      <td>1</td>\n",
       "      <td>0</td>\n",
       "      <td>0</td>\n",
       "      <td>0</td>\n",
       "      <td>0</td>\n",
       "      <td>0</td>\n",
       "      <td>0</td>\n",
       "      <td>0</td>\n",
       "      <td>0</td>\n",
       "      <td>1</td>\n",
       "      <td>0</td>\n",
       "      <td>0</td>\n",
       "      <td>0</td>\n",
       "      <td>0</td>\n",
       "      <td>0</td>\n",
       "      <td>0</td>\n",
       "      <td>0</td>\n",
       "      <td>0</td>\n",
       "      <td>0</td>\n",
       "      <td>0</td>\n",
       "      <td>0</td>\n",
       "      <td>0</td>\n",
       "    </tr>\n",
       "  </tbody>\n",
       "</table>\n",
       "</div>"
      ],
      "text/plain": [
       "     Unnamed: 0  userId  movieId  ...  War  Western (no genres listed)\n",
       "501         501       4     4239  ...    0        0                  0\n",
       "502         502       4     4246  ...    0        0                  0\n",
       "503         503       4     4252  ...    0        0                  0\n",
       "504         504       4     4260  ...    0        0                  0\n",
       "505         505       4     4273  ...    0        0                  0\n",
       "506         506       4     4308  ...    0        0                  0\n",
       "507         507       4     4347  ...    0        0                  0\n",
       "508         508       4     4381  ...    0        0                  0\n",
       "509         509       4     4641  ...    0        0                  0\n",
       "510         510       4     4741  ...    0        0                  0\n",
       "511         511       4     4765  ...    0        0                  0\n",
       "\n",
       "[11 rows x 39 columns]"
      ]
     },
     "execution_count": 212,
     "metadata": {
      "tags": []
     },
     "output_type": "execute_result"
    }
   ],
   "source": [
    "userMovieData.iloc[graph.edges[501:512]]"
   ]
  },
  {
   "cell_type": "code",
   "execution_count": 213,
   "metadata": {
    "colab": {
     "base_uri": "https://localhost:8080/"
    },
    "id": "WBlEYU6x0DW8",
    "outputId": "9111085c-8ffb-469a-f366-bc040948e03b"
   },
   "outputs": [
    {
     "name": "stdout",
     "output_type": "stream",
     "text": [
      "true users [7 7 7 7 7 7 7 7 7 7]\n",
      "true movies [ 8957  8958  8961  8965  8970  8972  8984 27741 30812 30816]\n",
      "first edge 990\n",
      "X_u         xu0\n",
      "userId     \n",
      "7       3.0\n",
      "X_m          xm0\n",
      "movieId     \n",
      "8957     4.0\n",
      "8958     3.5\n",
      "8961     4.0\n",
      "8965     1.0\n",
      "8970     2.5\n",
      "8972     2.5\n",
      "8984     4.0\n",
      "27741    3.0\n",
      "30812    3.5\n",
      "30816    2.0\n",
      "xTrain      userId  movieId  xu0  xm0\n",
      "990       7     8957  3.0  4.0\n",
      "991       7     8958  3.0  3.5\n",
      "992       7     8961  3.0  4.0\n",
      "993       7     8965  3.0  1.0\n",
      "994       7     8970  3.0  2.5\n",
      "995       7     8972  3.0  2.5\n",
      "996       7     8984  3.0  4.0\n",
      "997       7    27741  3.0  3.0\n",
      "998       7    30812  3.0  3.5\n",
      "999       7    30816  3.0  2.0\n"
     ]
    }
   ],
   "source": [
    "# -- _get_known_edges\n",
    "clf.fit(graph.edges[990:1000])\n",
    "print('true users', clf.adj.row[990:1000])\n",
    "print('true movies', clf.adj.col[990:1000])\n",
    "print('first edge', clf.adj.tocsr()[clf.adj.row[990],clf.adj.col[990]])\n",
    "\n",
    "print('X_u', clf.X_u)\n",
    "print('X_m', clf.X_m)\n",
    "print('xTrain', clf.xTrain)"
   ]
  },
  {
   "cell_type": "code",
   "execution_count": 214,
   "metadata": {
    "colab": {
     "base_uri": "https://localhost:8080/",
     "height": 0
    },
    "id": "AnZEmKlyKGcZ",
    "outputId": "f846017c-60a2-47b4-ff39-dca107a31109"
   },
   "outputs": [
    {
     "data": {
      "text/html": [
       "<div>\n",
       "<style scoped>\n",
       "    .dataframe tbody tr th:only-of-type {\n",
       "        vertical-align: middle;\n",
       "    }\n",
       "\n",
       "    .dataframe tbody tr th {\n",
       "        vertical-align: top;\n",
       "    }\n",
       "\n",
       "    .dataframe thead th {\n",
       "        text-align: right;\n",
       "    }\n",
       "</style>\n",
       "<table border=\"1\" class=\"dataframe\">\n",
       "  <thead>\n",
       "    <tr style=\"text-align: right;\">\n",
       "      <th></th>\n",
       "      <th>userId</th>\n",
       "      <th>movieId</th>\n",
       "      <th>xu0</th>\n",
       "      <th>xm0</th>\n",
       "    </tr>\n",
       "  </thead>\n",
       "  <tbody>\n",
       "    <tr>\n",
       "      <th>990</th>\n",
       "      <td>7</td>\n",
       "      <td>8957</td>\n",
       "      <td>3.0</td>\n",
       "      <td>4.0</td>\n",
       "    </tr>\n",
       "    <tr>\n",
       "      <th>991</th>\n",
       "      <td>7</td>\n",
       "      <td>8958</td>\n",
       "      <td>3.0</td>\n",
       "      <td>3.5</td>\n",
       "    </tr>\n",
       "    <tr>\n",
       "      <th>992</th>\n",
       "      <td>7</td>\n",
       "      <td>8961</td>\n",
       "      <td>3.0</td>\n",
       "      <td>4.0</td>\n",
       "    </tr>\n",
       "    <tr>\n",
       "      <th>993</th>\n",
       "      <td>7</td>\n",
       "      <td>8965</td>\n",
       "      <td>3.0</td>\n",
       "      <td>1.0</td>\n",
       "    </tr>\n",
       "    <tr>\n",
       "      <th>994</th>\n",
       "      <td>7</td>\n",
       "      <td>8970</td>\n",
       "      <td>3.0</td>\n",
       "      <td>2.5</td>\n",
       "    </tr>\n",
       "    <tr>\n",
       "      <th>995</th>\n",
       "      <td>7</td>\n",
       "      <td>8972</td>\n",
       "      <td>3.0</td>\n",
       "      <td>2.5</td>\n",
       "    </tr>\n",
       "    <tr>\n",
       "      <th>996</th>\n",
       "      <td>7</td>\n",
       "      <td>8984</td>\n",
       "      <td>3.0</td>\n",
       "      <td>4.0</td>\n",
       "    </tr>\n",
       "    <tr>\n",
       "      <th>997</th>\n",
       "      <td>7</td>\n",
       "      <td>27741</td>\n",
       "      <td>3.0</td>\n",
       "      <td>3.0</td>\n",
       "    </tr>\n",
       "    <tr>\n",
       "      <th>998</th>\n",
       "      <td>7</td>\n",
       "      <td>30812</td>\n",
       "      <td>3.0</td>\n",
       "      <td>3.5</td>\n",
       "    </tr>\n",
       "    <tr>\n",
       "      <th>999</th>\n",
       "      <td>7</td>\n",
       "      <td>30816</td>\n",
       "      <td>3.0</td>\n",
       "      <td>2.0</td>\n",
       "    </tr>\n",
       "  </tbody>\n",
       "</table>\n",
       "</div>"
      ],
      "text/plain": [
       "     userId  movieId  xu0  xm0\n",
       "990       7     8957  3.0  4.0\n",
       "991       7     8958  3.0  3.5\n",
       "992       7     8961  3.0  4.0\n",
       "993       7     8965  3.0  1.0\n",
       "994       7     8970  3.0  2.5\n",
       "995       7     8972  3.0  2.5\n",
       "996       7     8984  3.0  4.0\n",
       "997       7    27741  3.0  3.0\n",
       "998       7    30812  3.0  3.5\n",
       "999       7    30816  3.0  2.0"
      ]
     },
     "execution_count": 214,
     "metadata": {
      "tags": []
     },
     "output_type": "execute_result"
    }
   ],
   "source": [
    "clf.xTrain"
   ]
  },
  {
   "cell_type": "code",
   "execution_count": 215,
   "metadata": {
    "colab": {
     "base_uri": "https://localhost:8080/"
    },
    "id": "aM1K-d1R4WTc",
    "outputId": "1d7267b7-afed-46b0-c950-17b73dcee193"
   },
   "outputs": [
    {
     "name": "stdout",
     "output_type": "stream",
     "text": [
      "     userId  movieId  xu0  xm0\n",
      "990       7     8957  3.0  4.0\n",
      "992       7     8961  3.0  4.0\n",
      "994       7     8970  3.0  2.5\n",
      "996       7     8984  3.0  4.0\n",
      "998       7    30812  3.0  3.5\n",
      "0         1\n",
      "2         1\n",
      "4         0\n",
      "6         0\n",
      "8         0\n",
      "         ..\n",
      "100826    0\n",
      "100828    0\n",
      "100830    1\n",
      "100832    1\n",
      "100834    1\n",
      "Length: 50413, dtype: int64\n"
     ]
    }
   ],
   "source": [
    "xTestKnown, yTestUnknown = clf._get_known_edges(graph.edges[::2])\n",
    "print(xTestKnown)\n",
    "print(yTestUnknown)"
   ]
  },
  {
   "cell_type": "code",
   "execution_count": 216,
   "metadata": {
    "colab": {
     "base_uri": "https://localhost:8080/"
    },
    "id": "ncOcT9esF62u",
    "outputId": "7da917b0-3d78-48a2-b4c6-ae31f3653bad"
   },
   "outputs": [
    {
     "name": "stdout",
     "output_type": "stream",
     "text": [
      "[ 900  905  910  915  920  925  930  935  940  945  950  955  960  965\n",
      "  970  975  980  985  990  995 1000]\n",
      "      userId  movieId       xu0  xm0\n",
      "900        7     1219  4.333333  5.0\n",
      "950        7     4993  4.333333  4.5\n",
      "1000       7    31878  4.333333  3.5\n"
     ]
    }
   ],
   "source": [
    "# More difficult\n",
    "clf.fit(graph.edges[0:1001:50])\n",
    "print(graph.edges[900:1001:5])\n",
    "print(clf._get_known_edges(graph.edges[900:1001:5])[0])"
   ]
  },
  {
   "cell_type": "code",
   "execution_count": 217,
   "metadata": {
    "id": "3uTGwbHfXxY_"
   },
   "outputs": [],
   "source": [
    "# final test\n",
    "trainEdges, testEdges = graph.train_test_split(0.1)\n",
    "clf.fit(trainEdges)"
   ]
  },
  {
   "cell_type": "code",
   "execution_count": 219,
   "metadata": {
    "colab": {
     "base_uri": "https://localhost:8080/"
    },
    "id": "HERnS9HAYIWO",
    "outputId": "3fabda07-6928-45a4-8414-8b0660345d53"
   },
   "outputs": [
    {
     "name": "stdout",
     "output_type": "stream",
     "text": [
      "        userId  movieId       xu0       xm0\n",
      "28           1      527  4.355450  4.185864\n",
      "52           1     1025  4.355450  3.500000\n",
      "75           1     1214  4.355450  3.984496\n",
      "81           1     1240  4.355450  3.907895\n",
      "83           1     1258  4.355450  4.098958\n",
      "...        ...      ...       ...       ...\n",
      "100761     610   134368  3.694087  3.576923\n",
      "100777     610   138210  3.694087  3.250000\n",
      "100785     610   140247  3.694087  3.166667\n",
      "100812     610   156726  3.694087  1.750000\n",
      "100816     610   158872  3.694087  3.666667\n",
      "\n",
      "[9709 rows x 4 columns]\n",
      "prop 0.9629078647228008\n"
     ]
    }
   ],
   "source": [
    "print(clf._get_known_edges(testEdges)[0])\n",
    "print('prop', clf._get_known_edges(testEdges)[0].shape[0]/len(testEdges))"
   ]
  },
  {
   "cell_type": "code",
   "execution_count": 227,
   "metadata": {
    "colab": {
     "base_uri": "https://localhost:8080/"
    },
    "id": "uGqEvRjh519a",
    "outputId": "e0753d77-84de-4ac6-9564-021c77eb1a1f"
   },
   "outputs": [
    {
     "name": "stdout",
     "output_type": "stream",
     "text": [
      "610 134368\n"
     ]
    }
   ],
   "source": [
    "# -- check good index\n",
    "print(clf.adj.row[graph.edges[100761]], clf.adj.col[graph.edges[100761]])"
   ]
  },
  {
   "cell_type": "code",
   "execution_count": 237,
   "metadata": {
    "colab": {
     "base_uri": "https://localhost:8080/"
    },
    "id": "ekbxq-KK6Oux",
    "outputId": "75be8d5f-6255-4a04-da85-258dc33dddbc"
   },
   "outputs": [
    {
     "name": "stdout",
     "output_type": "stream",
     "text": [
      "             xu0\n",
      "userId          \n",
      "610     3.694087\n",
      "              xm0\n",
      "movieId          \n",
      "134368   3.576923\n"
     ]
    }
   ],
   "source": [
    "# -- check good data\n",
    "print(clf.X_u[clf.X_u.index == 610])\n",
    "print(clf.X_m[clf.X_m.index == 134368])"
   ]
  },
  {
   "cell_type": "markdown",
   "metadata": {
    "id": "9nVFxEjYhnNR"
   },
   "source": [
    "#### **Logistic Regression**"
   ]
  },
  {
   "cell_type": "code",
   "execution_count": 460,
   "metadata": {
    "id": "oQm5mtOBQ41H"
   },
   "outputs": [],
   "source": [
    "'''\n",
    "Logistic Regression\n",
    "'''\n",
    "import numpy as np\n",
    "from sklearn.linear_model import LogisticRegression\n",
    "from sklearn.preprocessing import StandardScaler\n",
    "\n",
    "class LogRegClf(_Clf):\n",
    "    def __init__(self, df, adj, likeThr=3.4, C0= 1e0, balanced= True):\n",
    "        self.set_featFncts()\n",
    "        super().__init__(df,adj, likeThr)\n",
    "        self.C0 = C0\n",
    "        self.class_weight = 'balanced' if balanced else None\n",
    "        pass\n",
    "\n",
    "    def set_featFncts(self):\n",
    "        # -- setting feature functions\n",
    "        self.featFncts = {'user': [NodeFeatures.user_mean],\n",
    "              'movie': [NodeFeatures.movie_mean]\n",
    "              }\n",
    "    \n",
    "    def _set_scaler(self, X):\n",
    "        scaler = StandardScaler()\n",
    "        scaler.fit(X)\n",
    "\n",
    "        self.scaler = scaler\n",
    "        pass\n",
    "    \n",
    "    def _process(self, X):\n",
    "        '''data preprocessing for the clf. Scaler should have been set\n",
    "        '''\n",
    "        scaler = self.scaler\n",
    "        return scaler.transform(X)\n",
    "        \n",
    "\n",
    "    def fit(self, edges):\n",
    "        self.xTrain, self.X_u, self.X_m = self._get_feature_matrix(edges)\n",
    "        self.yTrain = self._get_labels(edges)\n",
    "\n",
    "        self.clf = LogisticRegression(C = self.C0, class_weight=self.class_weight)\n",
    "        xTrainPre = self.xTrain.drop(columns= ['userId', 'movieId'])\n",
    "        self._set_scaler(xTrainPre)\n",
    "        self.clf.fit(self._process(xTrainPre), self.yTrain)\n",
    "        pass\n",
    "\n",
    "    def _predict_known(self, xTestKnown):\n",
    "        print(xTestKnown.head(10))\n",
    "        xTestKnownPre = self._process(xTestKnown.drop(columns= ['userId', 'movieId']))\n",
    "        return pd.Series(self.clf.predict(xTestKnownPre), index= xTestKnown.index)\n"
   ]
  },
  {
   "cell_type": "markdown",
   "metadata": {
    "id": "XSkpXRxmk43p"
   },
   "source": [
    "##### Basic Features"
   ]
  },
  {
   "cell_type": "code",
   "execution_count": 461,
   "metadata": {
    "id": "mKeshSscwi1_"
   },
   "outputs": [],
   "source": [
    "def set_featFncts(self):\n",
    "    # -- setting feature functions\n",
    "    self.featFncts = {'user': [NodeFeatures.user_mean],\n",
    "          'movie': [NodeFeatures.movie_mean]\n",
    "          }\n",
    "    pass\n",
    "\n",
    "LogRegClf.set_featFncts = set_featFncts"
   ]
  },
  {
   "cell_type": "code",
   "execution_count": 462,
   "metadata": {
    "id": "yrwPHI_zar8-"
   },
   "outputs": [],
   "source": [
    "# -- Parameters\n",
    "likeThr = 3.9\n",
    "C0 = 1e0\n",
    "balanced = True\n",
    "\n",
    "# -- Def\n",
    "clf = LogRegClf(userMovieData, graph.adjency, likeThr = likeThr, balanced = balanced)"
   ]
  },
  {
   "cell_type": "code",
   "execution_count": 463,
   "metadata": {
    "colab": {
     "base_uri": "https://localhost:8080/"
    },
    "id": "hGqwb_9nuORS",
    "outputId": "ecd0161b-9801-4a0f-a83c-81c6044f2176"
   },
   "outputs": [
    {
     "name": "stdout",
     "output_type": "stream",
     "text": [
      "    userId  movieId       xu0       xm0\n",
      "0        1        1  4.398844  3.948630\n",
      "4        1       50  4.398844  4.274306\n",
      "12       1      223  4.398844  3.789855\n",
      "22       1      367  4.398844  3.138095\n",
      "29       1      543  4.398844  3.333333\n",
      "31       1      553  4.398844  3.819149\n",
      "34       1      593  4.398844  4.191919\n",
      "40       1      733  4.398844  3.672619\n",
      "41       1      736  4.398844  3.373626\n",
      "45       1      923  4.398844  4.011111\n",
      "prop of classes chosen at random 0.04300826446280992\n"
     ]
    }
   ],
   "source": [
    "clf.fit(trainEdges)\n",
    "yPred = clf.predict(testEdges)\n",
    "yTrue = clf._get_labels(testEdges)"
   ]
  },
  {
   "cell_type": "code",
   "execution_count": 464,
   "metadata": {
    "colab": {
     "base_uri": "https://localhost:8080/"
    },
    "id": "IGRJwwNrsM8c",
    "outputId": "9afba58f-bd1d-4eef-a84d-b291e610053c"
   },
   "outputs": [
    {
     "data": {
      "text/plain": [
       "0.48180942396509224"
      ]
     },
     "execution_count": 464,
     "metadata": {
      "tags": []
     },
     "output_type": "execute_result"
    }
   ],
   "source": [
    "# -- Training score\n",
    "clf.clf.score(clf.xTrain.drop(columns={'userId','movieId'}), clf.yTrain)"
   ]
  },
  {
   "cell_type": "code",
   "execution_count": 465,
   "metadata": {
    "colab": {
     "base_uri": "https://localhost:8080/"
    },
    "id": "QTOjkTgFbCon",
    "outputId": "fda2962c-15a8-47d6-894c-2c9e299a2625"
   },
   "outputs": [
    {
     "name": "stdout",
     "output_type": "stream",
     "text": [
      "              precision    recall  f1-score   support\n",
      "\n",
      "           0       0.67      0.72      0.70     14657\n",
      "           1       0.72      0.67      0.69     15593\n",
      "\n",
      "    accuracy                           0.69     30250\n",
      "   macro avg       0.69      0.69      0.69     30250\n",
      "weighted avg       0.70      0.69      0.69     30250\n",
      "\n"
     ]
    }
   ],
   "source": [
    "# -- Test Score\n",
    "print(classification_report(yPred, yTrue))"
   ]
  },
  {
   "cell_type": "markdown",
   "metadata": {
    "id": "L9EpFyd3vOmH"
   },
   "source": [
    "##### More Features"
   ]
  },
  {
   "cell_type": "code",
   "execution_count": 466,
   "metadata": {
    "id": "abmJzEKgvog3"
   },
   "outputs": [],
   "source": [
    "def set_featFncts(self):\n",
    "    # -- setting feature functions\n",
    "    self.featFncts = {'user': [NodeFeatures.user_mean, \n",
    "                               NodeFeatures.user_std,\n",
    "                               NodeFeatures.user_degree,\n",
    "                               NodeFeatures.user_tag],\n",
    "                      'movie': [NodeFeatures.movie_mean,\n",
    "                                NodeFeatures.movie_std,\n",
    "                                NodeFeatures.movie_tag,\n",
    "                                NodeFeatures.movie_degree,\n",
    "                                NodeFeatures.movie_genre,\n",
    "                                NodeFeatures.movie_year]}\n",
    "    pass\n",
    "\n",
    "LogRegClf.set_featFncts = set_featFncts"
   ]
  },
  {
   "cell_type": "code",
   "execution_count": 467,
   "metadata": {
    "id": "mwz0AeHBw9A0"
   },
   "outputs": [],
   "source": [
    "# -- Parameters\n",
    "likeThr = 3.9\n",
    "C0 = 1e0\n",
    "balanced = True\n",
    "\n",
    "# -- Def\n",
    "clf = LogRegClf(userMovieData, graph.adjency, likeThr = likeThr, balanced = balanced)"
   ]
  },
  {
   "cell_type": "code",
   "execution_count": 468,
   "metadata": {
    "colab": {
     "base_uri": "https://localhost:8080/"
    },
    "id": "PUFwt11Dw9A8",
    "outputId": "4a1c806d-3cbb-464c-f948-111cb511b3ca"
   },
   "outputs": [
    {
     "name": "stdout",
     "output_type": "stream",
     "text": [
      "    userId  movieId       xu0       xu1  xu2  ...  xm31  xm32  xm33  xm34  xm35\n",
      "0        1        1  4.398844  0.775646  173  ...     0     0     1     0     0\n",
      "4        1       50  4.398844  0.775646  173  ...     0     0     1     0     0\n",
      "12       1      223  4.398844  0.775646  173  ...     0     0     1     0     0\n",
      "22       1      367  4.398844  0.775646  173  ...     0     0     1     0     0\n",
      "29       1      543  4.398844  0.775646  173  ...     0     0     1     0     0\n",
      "31       1      553  4.398844  0.775646  173  ...     0     0     1     0     0\n",
      "34       1      593  4.398844  0.775646  173  ...     0     0     1     0     0\n",
      "40       1      733  4.398844  0.775646  173  ...     0     0     1     0     0\n",
      "41       1      736  4.398844  0.775646  173  ...     0     0     1     0     0\n",
      "45       1      923  4.398844  0.775646  173  ...     0     0     0     0     0\n",
      "\n",
      "[10 rows x 42 columns]\n",
      "prop of classes chosen at random 0.04300826446280992\n"
     ]
    }
   ],
   "source": [
    "clf.fit(trainEdges)\n",
    "yPred = clf.predict(testEdges)\n",
    "yTrue = clf._get_labels(testEdges)"
   ]
  },
  {
   "cell_type": "code",
   "execution_count": 469,
   "metadata": {
    "colab": {
     "base_uri": "https://localhost:8080/"
    },
    "id": "1HgCiCEpA7GA",
    "outputId": "e8c0aeb3-61f3-4468-88c9-50018f4f38b6"
   },
   "outputs": [
    {
     "name": "stdout",
     "output_type": "stream",
     "text": [
      "0     1\n",
      "4     1\n",
      "12    0\n",
      "22    1\n",
      "29    1\n",
      "31    1\n",
      "34    1\n",
      "40    1\n",
      "41    0\n",
      "45    1\n",
      "49    0\n",
      "53    1\n",
      "57    1\n",
      "62    1\n",
      "67    1\n",
      "73    1\n",
      "75    1\n",
      "76    0\n",
      "84    1\n",
      "88    1\n",
      "Name: rating, dtype: uint8\n"
     ]
    }
   ],
   "source": [
    "print(yTrue[:20])"
   ]
  },
  {
   "cell_type": "code",
   "execution_count": 470,
   "metadata": {
    "colab": {
     "base_uri": "https://localhost:8080/"
    },
    "id": "0tjXDw4yw9A-",
    "outputId": "9bef282d-2097-4417-ab26-3034df0c4164"
   },
   "outputs": [
    {
     "name": "stdout",
     "output_type": "stream",
     "text": [
      "              precision    recall  f1-score   support\n",
      "\n",
      "           0       0.72      0.77      0.74     34070\n",
      "           1       0.77      0.72      0.74     36516\n",
      "\n",
      "    accuracy                           0.74     70586\n",
      "   macro avg       0.74      0.74      0.74     70586\n",
      "weighted avg       0.74      0.74      0.74     70586\n",
      "\n"
     ]
    }
   ],
   "source": [
    "# -- Training set\n",
    "print(classification_report(clf.clf.predict(clf._process(clf.xTrain.drop(columns= ['userId', 'movieId']))), clf.yTrain))"
   ]
  },
  {
   "cell_type": "code",
   "execution_count": 471,
   "metadata": {
    "colab": {
     "base_uri": "https://localhost:8080/"
    },
    "id": "23HUm_szw9A_",
    "outputId": "309e0073-2eb2-4a0f-cadd-8dd204268253"
   },
   "outputs": [
    {
     "name": "stdout",
     "output_type": "stream",
     "text": [
      "              precision    recall  f1-score   support\n",
      "\n",
      "           0       0.67      0.72      0.69     14497\n",
      "           1       0.72      0.67      0.69     15753\n",
      "\n",
      "    accuracy                           0.69     30250\n",
      "   macro avg       0.69      0.69      0.69     30250\n",
      "weighted avg       0.70      0.69      0.69     30250\n",
      "\n"
     ]
    }
   ],
   "source": [
    "# -- Test set\n",
    "print(classification_report(yPred, yTrue))"
   ]
  },
  {
   "cell_type": "markdown",
   "metadata": {
    "id": "QbfUv5AYByi3"
   },
   "source": [
    "##### Correlation to labels"
   ]
  },
  {
   "cell_type": "code",
   "execution_count": 472,
   "metadata": {
    "colab": {
     "base_uri": "https://localhost:8080/",
     "height": 320
    },
    "id": "phHSbs_SAWM3",
    "outputId": "099fd9bb-64f7-4a82-b7c5-6fc9a4782bc2"
   },
   "outputs": [
    {
     "data": {
      "image/png": "[encoded data removed]",
      "text/plain": [
       "<Figure size 360x360 with 1 Axes>"
      ]
     },
     "metadata": {
      "needs_background": "light",
      "tags": []
     },
     "output_type": "display_data"
    }
   ],
   "source": [
    "import matplotlib.pyplot as plt\n",
    "xTestKnown, _ = clf._get_known_edges(testEdges)\n",
    "plt.figure(figsize=(5,5))\n",
    "plt.plot(xTestKnown.drop(columns={'userId','movieId'}).corrwith(yTrue))\n",
    "plt.show()"
   ]
  },
  {
   "cell_type": "markdown",
   "metadata": {
    "id": "Q1VrZtRQiSjd"
   },
   "source": [
    "### Non Linear Clf"
   ]
  },
  {
   "cell_type": "markdown",
   "metadata": {
    "id": "WvJVXdO-hue5"
   },
   "source": [
    "#### **Tree** "
   ]
  },
  {
   "cell_type": "code",
   "execution_count": 473,
   "metadata": {
    "id": "IFW8fqOGh-GH"
   },
   "outputs": [],
   "source": [
    "'''\n",
    "Tree Classifier\n",
    "'''\n",
    "import numpy as np\n",
    "from sklearn.tree import DecisionTreeClassifier\n",
    "from sklearn.preprocessing import StandardScaler\n",
    "\n",
    "class TreeClf(_Clf):\n",
    "    def __init__(self, df, adj, likeThr=3.4, balanced= True,\n",
    "                 max_depth= None, min_samples_split= 2, min_samples_leaf= 1):\n",
    "        self.set_featFncts()\n",
    "        super().__init__(df,adj, likeThr)\n",
    "        self.class_weight = 'balanced' if balanced else None\n",
    "        self.max_depth = max_depth\n",
    "        self.min_samples_split = min_samples_split\n",
    "        self.min_samples_leaf = min_samples_leaf\n",
    "        pass\n",
    "\n",
    "    def set_featFncts(self):\n",
    "        # -- setting feature functions\n",
    "        self.featFncts = {'user': [NodeFeatures.user_mean],\n",
    "              'movie': [NodeFeatures.movie_mean]\n",
    "              }\n",
    "    \n",
    "    def _set_scaler(self, X):\n",
    "        scaler = StandardScaler()\n",
    "        scaler.fit(X)\n",
    "\n",
    "        self.scaler = scaler\n",
    "        pass\n",
    "    \n",
    "    def _process(self, X):\n",
    "        '''data preprocessing for the clf. Scaler should have been set\n",
    "        '''\n",
    "        scaler = self.scaler\n",
    "        return scaler.transform(X)\n",
    "        \n",
    "\n",
    "    def fit(self, edges):\n",
    "        self.xTrain, self.X_u, self.X_m = self._get_feature_matrix(edges)\n",
    "        self.yTrain = self._get_labels(edges)\n",
    "\n",
    "        self.clf = DecisionTreeClassifier(class_weight=self.class_weight, \n",
    "                                          max_depth=self.max_depth,\n",
    "                                          min_samples_split = self.min_samples_split,\n",
    "                                          min_samples_leaf= self.min_samples_leaf)\n",
    "        xTrainPre = self.xTrain.drop(columns= ['userId', 'movieId'])\n",
    "        self._set_scaler(xTrainPre)\n",
    "        self.clf.fit(self._process(xTrainPre), self.yTrain)\n",
    "        pass\n",
    "\n",
    "    def _predict_known(self, xTestKnown):\n",
    "        xTestKnownPre = self._process(xTestKnown.drop(columns= ['userId', 'movieId']))\n",
    "        return pd.Series(self.clf.predict(xTestKnownPre), index= xTestKnown.index)"
   ]
  },
  {
   "cell_type": "code",
   "execution_count": 474,
   "metadata": {
    "id": "__c4SSzyi1G5"
   },
   "outputs": [],
   "source": [
    "def set_featFncts(self):\n",
    "    # -- setting feature functions\n",
    "    self.featFncts = {'user': [NodeFeatures.user_mean, \n",
    "                               NodeFeatures.user_std,\n",
    "                               NodeFeatures.user_degree,\n",
    "                               NodeFeatures.user_tag],\n",
    "                      'movie': [NodeFeatures.movie_mean,\n",
    "                                NodeFeatures.movie_std,\n",
    "                                NodeFeatures.movie_tag,\n",
    "                                NodeFeatures.movie_degree,\n",
    "                                NodeFeatures.movie_genre,\n",
    "                                NodeFeatures.movie_year]}\n",
    "    pass\n",
    "\n",
    "TreeClf.set_featFncts = set_featFncts"
   ]
  },
  {
   "cell_type": "code",
   "execution_count": 475,
   "metadata": {
    "id": "q96NDy8qjGe8"
   },
   "outputs": [],
   "source": [
    "# -- Parameters (default value overfits the training data)\n",
    "likeThr = 3.4\n",
    "balanced = True\n",
    "max_depth = 5\n",
    "min_samples_split = 2\n",
    "min_samples_leaf = 10 \n",
    "\n",
    "# -- Def\n",
    "clf = TreeClf(userMovieData, graph.adjency, likeThr = likeThr, \n",
    "              balanced = balanced, min_samples_leaf= min_samples_leaf)"
   ]
  },
  {
   "cell_type": "code",
   "execution_count": 476,
   "metadata": {
    "colab": {
     "base_uri": "https://localhost:8080/"
    },
    "id": "2-QqYYtajGfI",
    "outputId": "0477b4e7-42fe-4d3b-af0a-fb4c24675ac1"
   },
   "outputs": [
    {
     "name": "stdout",
     "output_type": "stream",
     "text": [
      "prop of classes chosen at random 0.04300826446280992\n"
     ]
    }
   ],
   "source": [
    "clf.fit(trainEdges)\n",
    "yPred = clf.predict(testEdges)\n",
    "yTrue = clf._get_labels(testEdges)"
   ]
  },
  {
   "cell_type": "code",
   "execution_count": 477,
   "metadata": {
    "colab": {
     "base_uri": "https://localhost:8080/"
    },
    "id": "_Idb7E48jGfI",
    "outputId": "f7ee353b-e7b2-40be-86f8-79a2dd1b32b2"
   },
   "outputs": [
    {
     "name": "stdout",
     "output_type": "stream",
     "text": [
      "              precision    recall  f1-score   support\n",
      "\n",
      "           0       0.85      0.74      0.79     31452\n",
      "           1       0.81      0.90      0.85     39134\n",
      "\n",
      "    accuracy                           0.83     70586\n",
      "   macro avg       0.83      0.82      0.82     70586\n",
      "weighted avg       0.83      0.83      0.83     70586\n",
      "\n"
     ]
    }
   ],
   "source": [
    "# -- Training set\n",
    "print(classification_report(clf.clf.predict(clf._process(clf.xTrain.drop(columns= ['userId', 'movieId']))), clf.yTrain))"
   ]
  },
  {
   "cell_type": "code",
   "execution_count": 478,
   "metadata": {
    "colab": {
     "base_uri": "https://localhost:8080/"
    },
    "id": "S2mPEy8MjGfJ",
    "outputId": "4592dc3e-2a88-4934-b9e2-64616c707ee7"
   },
   "outputs": [
    {
     "name": "stdout",
     "output_type": "stream",
     "text": [
      "              precision    recall  f1-score   support\n",
      "\n",
      "           0       0.66      0.57      0.61     13549\n",
      "           1       0.69      0.76      0.72     16701\n",
      "\n",
      "    accuracy                           0.67     30250\n",
      "   macro avg       0.67      0.66      0.67     30250\n",
      "weighted avg       0.67      0.67      0.67     30250\n",
      "\n"
     ]
    }
   ],
   "source": [
    "# -- Test set\n",
    "print(classification_report(yPred, yTrue))"
   ]
  },
  {
   "cell_type": "markdown",
   "metadata": {
    "id": "RmH4UFgoDxdn"
   },
   "source": [
    "#### **Gradient Boosting**"
   ]
  },
  {
   "cell_type": "code",
   "execution_count": 479,
   "metadata": {
    "id": "-bv7GjyJEEZb"
   },
   "outputs": [],
   "source": [
    "from sklearn.ensemble import GradientBoostingClassifier"
   ]
  },
  {
   "cell_type": "code",
   "execution_count": 480,
   "metadata": {
    "id": "AusDWF1qD0sU"
   },
   "outputs": [],
   "source": [
    "class GradientBoostingClf(_Clf):\n",
    "    def __init__(self, df, adj, likeThr=3.4, max_depth= None, max_features= None,\n",
    "                 lr= 0.1, min_samples_split= 2, min_samples_leaf= 1, n_estimators=100):\n",
    "        self.set_featFncts()\n",
    "        super().__init__(df,adj, likeThr)\n",
    "        self.max_depth = max_depth\n",
    "        self.min_samples_split = min_samples_split\n",
    "        self.min_samples_leaf = min_samples_leaf\n",
    "        self.lr = lr\n",
    "        self.n_estimators = n_estimators\n",
    "        self.max_features = max_features\n",
    "        pass\n",
    "\n",
    "    def set_featFncts(self):\n",
    "        # -- setting feature functions\n",
    "        self.featFncts = {'user': [NodeFeatures.user_mean],\n",
    "              'movie': [NodeFeatures.movie_mean]\n",
    "              }\n",
    "    \n",
    "    def _set_scaler(self, X):\n",
    "        scaler = StandardScaler()\n",
    "        scaler.fit(X)\n",
    "\n",
    "        self.scaler = scaler\n",
    "        pass\n",
    "    \n",
    "    def _process(self, X):\n",
    "        '''data preprocessing for the clf. Scaler should have been set\n",
    "        '''\n",
    "        scaler = self.scaler\n",
    "        return scaler.transform(X)\n",
    "        \n",
    "\n",
    "    def fit(self, edges):\n",
    "        self.xTrain, self.X_u, self.X_m = self._get_feature_matrix(edges)\n",
    "        self.yTrain = self._get_labels(edges)\n",
    "\n",
    "        self.clf = clf = GradientBoostingClassifier(n_estimators=self.n_estimators, \n",
    "                                                    learning_rate=self.lr,\n",
    "                                                    max_depth=self.max_depth,\n",
    "                                                    max_features = self.max_features,\n",
    "                                                    min_samples_split= self.min_samples_split,\n",
    "                                                    min_samples_leaf= self.min_samples_leaf)\n",
    "        xTrainPre = self.xTrain.drop(columns= ['userId', 'movieId'])\n",
    "        self._set_scaler(xTrainPre)\n",
    "        self.clf.fit(self._process(xTrainPre), self.yTrain)\n",
    "        pass\n",
    "\n",
    "    def _predict_known(self, xTestKnown):\n",
    "        xTestKnownPre = self._process(xTestKnown.drop(columns= ['userId', 'movieId']))\n",
    "        return pd.Series(self.clf.predict(xTestKnownPre), index= xTestKnown.index)"
   ]
  },
  {
   "cell_type": "code",
   "execution_count": 481,
   "metadata": {
    "id": "y0Jz6ImrHK3v"
   },
   "outputs": [],
   "source": [
    "def set_featFncts(self):\n",
    "    # -- setting feature functions\n",
    "    self.featFncts = {'user': [NodeFeatures.user_mean, \n",
    "                               NodeFeatures.user_std,\n",
    "                               NodeFeatures.user_degree,\n",
    "                               NodeFeatures.user_tag],\n",
    "                      'movie': [NodeFeatures.movie_mean,\n",
    "                                NodeFeatures.movie_std,\n",
    "                                NodeFeatures.movie_tag,\n",
    "                                NodeFeatures.movie_degree,\n",
    "                                NodeFeatures.movie_genre,\n",
    "                                NodeFeatures.movie_year]}\n",
    "    pass\n",
    "\n",
    "GradientBoostingClf.set_featFncts = set_featFncts"
   ]
  },
  {
   "cell_type": "code",
   "execution_count": 482,
   "metadata": {
    "id": "mg7Q2YrnHK35"
   },
   "outputs": [],
   "source": [
    "# -- Parameters\n",
    "likeThr = 3.4\n",
    "\n",
    "lr = 1e-2\n",
    "n_estimators = 1000\n",
    "max_depth = 3\n",
    "max_features = 10\n",
    "min_samples_split = 2\n",
    "min_samples_leaf = 5\n",
    "\n",
    "# -- Def\n",
    "clf = GradientBoostingClf(userMovieData, graph.adjency, likeThr = likeThr, \n",
    "                          lr= 1e-1, min_samples_leaf= min_samples_leaf, \n",
    "                          min_samples_split= min_samples_split, max_depth= max_depth,\n",
    "                          max_features= max_features, n_estimators= n_estimators)"
   ]
  },
  {
   "cell_type": "code",
   "execution_count": 483,
   "metadata": {
    "colab": {
     "base_uri": "https://localhost:8080/"
    },
    "id": "XSAfvDzhHK35",
    "outputId": "db5ee0f6-b241-4276-f63b-39f4799e7879"
   },
   "outputs": [
    {
     "name": "stdout",
     "output_type": "stream",
     "text": [
      "prop of classes chosen at random 0.04300826446280992\n"
     ]
    }
   ],
   "source": [
    "clf.fit(trainEdges)\n",
    "yPred = clf.predict(testEdges)\n",
    "yTrue = clf._get_labels(testEdges)"
   ]
  },
  {
   "cell_type": "code",
   "execution_count": 484,
   "metadata": {
    "colab": {
     "base_uri": "https://localhost:8080/"
    },
    "id": "svZazR_QHK35",
    "outputId": "1f50184a-dbcb-4060-f89c-e17cc07cc59a"
   },
   "outputs": [
    {
     "name": "stdout",
     "output_type": "stream",
     "text": [
      "              precision    recall  f1-score   support\n",
      "\n",
      "           0       0.66      0.77      0.71     23315\n",
      "           1       0.88      0.80      0.84     47271\n",
      "\n",
      "    accuracy                           0.79     70586\n",
      "   macro avg       0.77      0.79      0.78     70586\n",
      "weighted avg       0.81      0.79      0.80     70586\n",
      "\n"
     ]
    }
   ],
   "source": [
    "# -- Training set\n",
    "print(classification_report(clf.clf.predict(clf._process(clf.xTrain.drop(columns= ['userId', 'movieId']))), clf.yTrain))"
   ]
  },
  {
   "cell_type": "code",
   "execution_count": 485,
   "metadata": {
    "colab": {
     "base_uri": "https://localhost:8080/"
    },
    "id": "LAsFXU-GHK36",
    "outputId": "e7a4c513-f3a7-42fa-eeda-d5332842421a"
   },
   "outputs": [
    {
     "name": "stdout",
     "output_type": "stream",
     "text": [
      "              precision    recall  f1-score   support\n",
      "\n",
      "           0       0.57      0.67      0.62     10049\n",
      "           1       0.82      0.75      0.78     20201\n",
      "\n",
      "    accuracy                           0.72     30250\n",
      "   macro avg       0.69      0.71      0.70     30250\n",
      "weighted avg       0.74      0.72      0.73     30250\n",
      "\n"
     ]
    }
   ],
   "source": [
    "# -- Test set\n",
    "print(classification_report(yPred, yTrue))"
   ]
  },
  {
   "cell_type": "code",
   "execution_count": 486,
   "metadata": {
    "colab": {
     "base_uri": "https://localhost:8080/",
     "height": 282
    },
    "id": "qvDRMZxAI18z",
    "outputId": "ad9d2024-bada-4419-c30c-9d1da943e1e2"
   },
   "outputs": [
    {
     "data": {
      "text/plain": [
       "<matplotlib.collections.PathCollection at 0x7fb0c621bbe0>"
      ]
     },
     "execution_count": 486,
     "metadata": {
      "tags": []
     },
     "output_type": "execute_result"
    },
    {
     "data": {
      "image/png": "[encoded data removed]",
      "text/plain": [
       "<Figure size 432x288 with 1 Axes>"
      ]
     },
     "metadata": {
      "needs_background": "light",
      "tags": []
     },
     "output_type": "display_data"
    }
   ],
   "source": [
    "plt.scatter(range(len(clf.clf.feature_importances_)),clf.clf.feature_importances_)"
   ]
  }
 ],
 "metadata": {
  "colab": {
   "authorship_tag": "ABX9TyMhvRV1LGPyfJbKLP1hej+K",
   "collapsed_sections": [
    "sWP7KvD_OuPM",
    "By-Ea9BEOxCc",
    "82lOTWJWOa_j",
    "YRz_JdNiVOm_"
   ],
   "include_colab_link": true,
   "name": "Graph_small (working).ipynb",
   "provenance": [],
   "toc_visible": true
  },
  "kernelspec": {
   "display_name": "Python 3",
   "language": "python",
   "name": "python3"
  },
  "language_info": {
   "codemirror_mode": {
    "name": "ipython",
    "version": 3
   },
   "file_extension": ".py",
   "mimetype": "text/x-python",
   "name": "python",
   "nbconvert_exporter": "python",
   "pygments_lexer": "ipython3",
   "version": "3.7.6"
  }
 },
 "nbformat": 4,
 "nbformat_minor": 4
}
