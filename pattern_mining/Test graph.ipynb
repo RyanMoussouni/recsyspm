{
 "cells": [
  {
   "cell_type": "code",
   "execution_count": 188,
   "metadata": {},
   "outputs": [],
   "source": [
    "import copy"
   ]
  },
  {
   "cell_type": "code",
   "execution_count": 288,
   "metadata": {},
   "outputs": [],
   "source": [
    "class Vertice:\n",
    "    def __init__(self,idv,q):\n",
    "        self.id=idv\n",
    "        self.q=q\n",
    "        self.degree=0\n",
    "\n",
    "V1=[]\n",
    "V1.append(Vertice(idv=1,q=['a','b','c']))\n",
    "V1.append(Vertice(idv=2,q=['a','b','d']))\n",
    "V1.append(Vertice(idv=3,q=['a','b','c']))\n",
    "\n",
    "V2=[]\n",
    "V2.append(Vertice(idv=1,q=['w','x','y']))\n",
    "V2.append(Vertice(idv=2,q=['w','x','z']))\n",
    "V2.append(Vertice(idv=3,q=['w','x','y']))\n",
    "\n",
    "V=[V1,V2]"
   ]
  },
  {
   "cell_type": "code",
   "execution_count": 289,
   "metadata": {},
   "outputs": [
    {
     "name": "stdout",
     "output_type": "stream",
     "text": [
      "1\n"
     ]
    }
   ],
   "source": [
    "class Edge:\n",
    "    def __init__(self, V1Id:int, V2Id:int):\n",
    "        self.V1Id = V1Id\n",
    "        self.V2Id = V2Id\n",
    "        \n",
    "edges=[]\n",
    "edges.append(Edge(1,1))\n",
    "edges.append(Edge(1,2))\n",
    "edges.append(Edge(1,3))\n",
    "edges.append(Edge(2,1))\n",
    "edges.append(Edge(2,2))\n",
    "edges.append(Edge(2,3))\n",
    "edges.append(Edge(3,3))\n",
    "\n",
    "print(edges[0].V1Id)"
   ]
  },
  {
   "cell_type": "code",
   "execution_count": 164,
   "metadata": {},
   "outputs": [
    {
     "name": "stdout",
     "output_type": "stream",
     "text": [
      "[[1, 2, 3, 4, None, 5, None], [4, None, 3]]\n"
     ]
    }
   ],
   "source": [
    "liste=[[1,2,3,4,None,5,None],[4,None,3]]\n",
    "liste=list(filter(None,liste))\n",
    "print(liste)"
   ]
  },
  {
   "cell_type": "code",
   "execution_count": 363,
   "metadata": {},
   "outputs": [],
   "source": [
    "class Graph_bi:\n",
    "    def __init__(self, V:list, I:list, edges:list):\n",
    "        self.V=V #set of Vetices \n",
    "        self.I=I #set of labels constituing patterns\n",
    "        self.edges=edges\n",
    "        self.q=[]\n",
    "        self.setCorePattern()\n",
    "        self.setDegrees()\n",
    "        \n",
    "    def setCorePattern(self):\n",
    "        '''Calculate the core bi-pattern, i.e. the more specific patttern that occurs in the nodes.\n",
    "        '''\n",
    "        q1=self.I[0]\n",
    "        q2=self.I[1]\n",
    "        for v in self.V[0]:\n",
    "            q1=[value for value in q1 if value in v.q]\n",
    "        for v in self.V[1]:\n",
    "            q2=[value for value in q2 if value in v.q]\n",
    "        q=[q1,q2]\n",
    "        self.q=q\n",
    "        pass\n",
    "    \n",
    "    def setDegrees(self):\n",
    "        '''Set the degree of each vertice, i.e. the number of connexion to the other vertices it has.\n",
    "        '''\n",
    "        for i in self.V:\n",
    "            for v in i:\n",
    "                v.degree = 0\n",
    "                \n",
    "        for v in self.V[0]:\n",
    "            for e in self.edges:\n",
    "                if v.id == e.V1Id:\n",
    "                    v.degree +=1\n",
    "                    \n",
    "        for v in self.V[1]:\n",
    "            for e in self.edges:\n",
    "                if v.id == e.V2Id:\n",
    "                    v.degree +=1\n",
    "                            \n",
    "        pass\n",
    "        \n",
    "    def interior(self,h:int,a:int):\n",
    "        '''Calculate the h-a BHA-core of the graphe. It remove the vertices from V1 (resp. V2) if its degree is less \n",
    "                than h (resp. a).\n",
    "        '''\n",
    "        self.setDegrees()\n",
    "        edges=[]\n",
    "        V1=[]\n",
    "        V2=[]\n",
    "        for v in self.V[0]:\n",
    "            if v.degree >= h:\n",
    "                for e in self.edges:\n",
    "                    if v.id == e.V1Id:\n",
    "                        edges.append(e)\n",
    "                V1.append(v)        \n",
    "        self.edges=edges\n",
    "        edges=[]\n",
    "        for v in self.V[1]:\n",
    "            if v.degree >= a:\n",
    "                for e in self.edges:\n",
    "                    if v.id == e.V2Id:\n",
    "                        edges.append(e)\n",
    "                V2.append(v)\n",
    "                \n",
    "        self.edges=edges\n",
    "        self.V=[V1,V2]\n",
    "        self.setDegrees()\n",
    "        self.setCorePattern()\n",
    "               \n",
    "        pass\n",
    "    \n",
    "    def extension(self,q):\n",
    "        '''Calculate the support of q, i.e. the nodes which pattern contains q\n",
    "        '''\n",
    "        S1=[]\n",
    "        S2=[]\n",
    "        edges=[]\n",
    "        for v in self.V[0]:\n",
    "            if ([value for value in q[0] if value in v.q]==q[0]):\n",
    "                S1.append(v)\n",
    "                for e in self.edges:\n",
    "                    if v.id == e.V1Id:\n",
    "                        edges.append(e)\n",
    "        edges2=[]\n",
    "        for v in self.V[1]:\n",
    "            if ([value for value in q[1] if value in v.q]==q[1]):\n",
    "                S2.append(v)\n",
    "                for e in edges:\n",
    "                    if v.id == e.V2Id:\n",
    "                        edges2.append(e)\n",
    "            \n",
    "        S=[S1,S2]\n",
    "        G=Graph_bi(V=S,I=self.I,edges=edges2)\n",
    "        return G\n",
    "        pass\n",
    "    \n",
    "    def minus(self,q:list):\n",
    "        \"Return the set of item from the alphabet I which is not in the pattern q\"\n",
    "        minus=[value for value in I[0]+I[1] if (value not in q[0]) & (value not in q[1])]\n",
    "        return minus\n",
    "    \n",
    "    def add(self,q:list,x):\n",
    "        \"Return the pattern q with x added in the right place\"\n",
    "        q_star=copy.deepcopy(q)\n",
    "        if x in I[0]:\n",
    "            q_star[0] += [x]\n",
    "        else:\n",
    "            q_star[1] += [x]\n",
    "            \n",
    "        return q_star\n",
    "    \n",
    "    def Enumerate(self,EL:list,s:int,h:int,a:int):\n",
    "        for x in self.minus(self.q):\n",
    "            p=self.add(self.q,x)\n",
    "            print(x)\n",
    "            S_x=self.extension(p)\n",
    "            for v in S_x.V[1]:\n",
    "                print(v.id)\n",
    "            S_x.interior(h,a)\n",
    "            for v in S_x.V[1]:\n",
    "                print(v.id)\n",
    "            if (len(S_x.V[0])>=s)&(len(S_x.V[1])>=s):\n",
    "                S_x.setCorePattern()\n",
    "                print(S_x.q)\n",
    "                print(S_x.q not in EL)\n",
    "                if S_x.q not in EL:\n",
    "                    EL.append(S_x.q)\n",
    "                    print(EL)\n",
    "                    S_x.Enumerate(EL=EL,s=s,h=h,a=a)\n",
    "                    \n",
    "             \n",
    "    def getVerticeV1(self,idv:int):\n",
    "        pass\n",
    "    \n",
    "    def getVerticeV2(self,idv:int):\n",
    "        pass"
   ]
  },
  {
   "cell_type": "code",
   "execution_count": 356,
   "metadata": {},
   "outputs": [],
   "source": [
    "I=[['a','b','c','d'],['w','x','y','z']]"
   ]
  },
  {
   "cell_type": "code",
   "execution_count": 364,
   "metadata": {},
   "outputs": [],
   "source": [
    "G=Graph_bi(V=V,I=I,edges=edges)"
   ]
  },
  {
   "cell_type": "code",
   "execution_count": 323,
   "metadata": {},
   "outputs": [
    {
     "name": "stdout",
     "output_type": "stream",
     "text": [
      "[['a', 'b'], ['w', 'x']]\n"
     ]
    }
   ],
   "source": [
    "print(G.q)"
   ]
  },
  {
   "cell_type": "code",
   "execution_count": 292,
   "metadata": {},
   "outputs": [
    {
     "name": "stdout",
     "output_type": "stream",
     "text": [
      "1\n",
      "2\n",
      "3\n",
      "1\n",
      "2\n",
      "3\n",
      "[['a', 'b'], ['w', 'x']]\n"
     ]
    }
   ],
   "source": [
    "for i in G.V:\n",
    "    for v in i:\n",
    "        print(v.id)\n",
    "print(G.q)"
   ]
  },
  {
   "cell_type": "code",
   "execution_count": 207,
   "metadata": {},
   "outputs": [
    {
     "name": "stdout",
     "output_type": "stream",
     "text": [
      "Noeud  1\n",
      "Noeud  2\n",
      "Noeud  1\n",
      "Noeud  2\n",
      "Noeud  3\n",
      "Lien de  1  à  1\n",
      "Lien de  2  à  1\n",
      "Lien de  1  à  2\n",
      "Lien de  2  à  2\n",
      "Lien de  1  à  3\n",
      "Lien de  2  à  3\n",
      "[['a', 'b'], ['w', 'x']]\n"
     ]
    }
   ],
   "source": [
    "G.interior(2,2)\n",
    "for i in G.V:\n",
    "    for v in i:\n",
    "        print('Noeud ',v.id)\n",
    "\n",
    "for e in G.edges:\n",
    "    print('Lien de ',e.V1Id,' à ',e.V2Id)\n",
    "print(G.q)"
   ]
  },
  {
   "cell_type": "code",
   "execution_count": 171,
   "metadata": {},
   "outputs": [
    {
     "ename": "IndexError",
     "evalue": "list index out of range",
     "output_type": "error",
     "traceback": [
      "\u001b[0;31m---------------------------------------------------------------------------\u001b[0m",
      "\u001b[0;31mIndexError\u001b[0m                                Traceback (most recent call last)",
      "\u001b[0;32m<ipython-input-171-52c913231b91>\u001b[0m in \u001b[0;36m<module>\u001b[0;34m\u001b[0m\n\u001b[1;32m      1\u001b[0m \u001b[0mtest\u001b[0m\u001b[0;34m=\u001b[0m\u001b[0;34m[\u001b[0m\u001b[0mvalue\u001b[0m \u001b[0;32mfor\u001b[0m \u001b[0mvalue\u001b[0m \u001b[0;32min\u001b[0m \u001b[0mV\u001b[0m \u001b[0;32mif\u001b[0m \u001b[0;34m(\u001b[0m\u001b[0mvalue\u001b[0m \u001b[0;34m==\u001b[0m \u001b[0;32mNone\u001b[0m\u001b[0;34m)\u001b[0m\u001b[0;34m]\u001b[0m\u001b[0;34m\u001b[0m\u001b[0;34m\u001b[0m\u001b[0m\n\u001b[0;32m----> 2\u001b[0;31m \u001b[0mprint\u001b[0m\u001b[0;34m(\u001b[0m\u001b[0mG\u001b[0m\u001b[0;34m.\u001b[0m\u001b[0mV\u001b[0m\u001b[0;34m[\u001b[0m\u001b[0;36m0\u001b[0m\u001b[0;34m]\u001b[0m\u001b[0;34m[\u001b[0m\u001b[0;36m2\u001b[0m\u001b[0;34m]\u001b[0m\u001b[0;34m)\u001b[0m\u001b[0;34m\u001b[0m\u001b[0;34m\u001b[0m\u001b[0m\n\u001b[0m",
      "\u001b[0;31mIndexError\u001b[0m: list index out of range"
     ]
    }
   ],
   "source": [
    "test=[value for value in V if (value == None)]\n",
    "print(G.V[0][2])"
   ]
  },
  {
   "cell_type": "code",
   "execution_count": 216,
   "metadata": {},
   "outputs": [
    {
     "data": {
      "text/plain": [
       "['c', 'd', 'y', 'z']"
      ]
     },
     "execution_count": 216,
     "metadata": {},
     "output_type": "execute_result"
    }
   ],
   "source": [
    "G.minus(G.q)"
   ]
  },
  {
   "cell_type": "code",
   "execution_count": 341,
   "metadata": {},
   "outputs": [],
   "source": [
    "p=G.add(G.q,'c')"
   ]
  },
  {
   "cell_type": "code",
   "execution_count": 281,
   "metadata": {},
   "outputs": [
    {
     "name": "stdout",
     "output_type": "stream",
     "text": [
      "[['a', 'b'], ['w', 'x']]\n"
     ]
    }
   ],
   "source": [
    "print(G.q)"
   ]
  },
  {
   "cell_type": "code",
   "execution_count": 198,
   "metadata": {},
   "outputs": [],
   "source": [
    "p=copy.deepcopy(G.q)"
   ]
  },
  {
   "cell_type": "code",
   "execution_count": 282,
   "metadata": {},
   "outputs": [
    {
     "name": "stdout",
     "output_type": "stream",
     "text": [
      "[['a', 'b', 'c'], ['w', 'x']]\n"
     ]
    }
   ],
   "source": [
    "print(p)"
   ]
  },
  {
   "cell_type": "code",
   "execution_count": 200,
   "metadata": {},
   "outputs": [],
   "source": [
    "p[1]+=['v']"
   ]
  },
  {
   "cell_type": "code",
   "execution_count": 201,
   "metadata": {},
   "outputs": [
    {
     "name": "stdout",
     "output_type": "stream",
     "text": [
      "[['a', 'b'], ['w', 'x', 'v']]\n"
     ]
    }
   ],
   "source": [
    "print(p)"
   ]
  },
  {
   "cell_type": "code",
   "execution_count": 202,
   "metadata": {},
   "outputs": [
    {
     "name": "stdout",
     "output_type": "stream",
     "text": [
      "[['a', 'b'], ['w', 'x']]\n"
     ]
    }
   ],
   "source": [
    "print(G.q)"
   ]
  },
  {
   "cell_type": "code",
   "execution_count": 342,
   "metadata": {},
   "outputs": [
    {
     "name": "stdout",
     "output_type": "stream",
     "text": [
      "1\n",
      "2\n",
      "3\n"
     ]
    }
   ],
   "source": [
    "S=G.extension(p)\n",
    "for s in S.V[1]:\n",
    "    print(s.id)"
   ]
  },
  {
   "cell_type": "code",
   "execution_count": 243,
   "metadata": {},
   "outputs": [
    {
     "name": "stdout",
     "output_type": "stream",
     "text": [
      "['a', 'c', 'd']\n"
     ]
    }
   ],
   "source": [
    "l=['a','b','c','d']\n",
    "for i in l:\n",
    "    if i is 'a':\n",
    "        l.pop(1)\n",
    "print(l)"
   ]
  },
  {
   "cell_type": "code",
   "execution_count": 343,
   "metadata": {},
   "outputs": [],
   "source": [
    "q=G.add(p,'z')"
   ]
  },
  {
   "cell_type": "code",
   "execution_count": 344,
   "metadata": {},
   "outputs": [
    {
     "name": "stdout",
     "output_type": "stream",
     "text": [
      "[['a', 'b', 'c'], ['w', 'x', 'z']]\n",
      "2\n"
     ]
    }
   ],
   "source": [
    "print(q)\n",
    "S2=G.extension(q)\n",
    "for s in S2.V[1]:\n",
    "    print(s.id)"
   ]
  },
  {
   "cell_type": "code",
   "execution_count": 365,
   "metadata": {},
   "outputs": [
    {
     "name": "stdout",
     "output_type": "stream",
     "text": [
      "c\n",
      "1\n",
      "2\n",
      "3\n",
      "d\n",
      "1\n",
      "2\n",
      "3\n",
      "y\n",
      "1\n",
      "3\n",
      "1\n",
      "3\n",
      "[['a', 'b'], ['w', 'x', 'y']]\n",
      "True\n",
      "[[['a', 'b'], ['w', 'x', 'y']]]\n",
      "c\n",
      "1\n",
      "3\n",
      "d\n",
      "1\n",
      "3\n",
      "z\n",
      "z\n",
      "2\n",
      "2\n",
      "[[['a', 'b'], ['w', 'x', 'y']]]\n"
     ]
    }
   ],
   "source": [
    "G.interior(2,2)\n",
    "EL=[]\n",
    "G.Enumerate(EL=EL,s=1,h=2,a=2)\n",
    "print(EL)"
   ]
  },
  {
   "cell_type": "code",
   "execution_count": 320,
   "metadata": {},
   "outputs": [
    {
     "name": "stdout",
     "output_type": "stream",
     "text": [
      "[4, 3, 2, 1]\n"
     ]
    }
   ],
   "source": [
    "def test(l:list,i):\n",
    "    if i>0:\n",
    "        l.append(i)\n",
    "        test(l,i-1)\n",
    "\n",
    "l=[]\n",
    "test(l,4)\n",
    "print(l)"
   ]
  },
  {
   "cell_type": "code",
   "execution_count": null,
   "metadata": {},
   "outputs": [],
   "source": []
  },
  {
   "cell_type": "code",
   "execution_count": null,
   "metadata": {},
   "outputs": [],
   "source": []
  }
 ],
 "metadata": {
  "kernelspec": {
   "display_name": "Python 3",
   "language": "python",
   "name": "python3"
  },
  "language_info": {
   "codemirror_mode": {
    "name": "ipython",
    "version": 3
   },
   "file_extension": ".py",
   "mimetype": "text/x-python",
   "name": "python",
   "nbconvert_exporter": "python",
   "pygments_lexer": "ipython3",
   "version": "3.7.6"
  }
 },
 "nbformat": 4,
 "nbformat_minor": 4
}
