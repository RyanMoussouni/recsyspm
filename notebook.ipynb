{
  "nbformat": 4,
  "nbformat_minor": 0,
  "metadata": {
    "colab": {
      "name": "Graph.ipynb",
      "provenance": [],
      "collapsed_sections": [],
      "authorship_tag": "ABX9TyOQmn0OzwfvEWMcOtO6r0B8",
      "include_colab_link": true
    },
    "kernelspec": {
      "display_name": "Python 3",
      "name": "python3"
    }
  },
  "cells": [
    {
      "cell_type": "markdown",
      "metadata": {
        "id": "view-in-github",
        "colab_type": "text"
      },
      "source": [
        "<a href=\"https://colab.research.google.com/github/TiphaineV/gpeg/blob/heavy/notebook.ipynb\" target=\"_parent\"><img src=\"https://colab.research.google.com/assets/colab-badge.svg\" alt=\"Open In Colab\"/></a>"
      ]
    },
    {
      "cell_type": "markdown",
      "metadata": {
        "id": "7k1QGkhbOb3g"
      },
      "source": [
        "## Loading Files"
      ]
    },
    {
      "cell_type": "code",
      "metadata": {
        "id": "rAyJm-MIs0_8"
      },
      "source": [
        "import pandas as pd\n",
        "from sklearn.metrics import classification_report\n",
        "import scipy.sparse as sparse"
      ],
      "execution_count": 1,
      "outputs": []
    },
    {
      "cell_type": "code",
      "metadata": {
        "colab": {
          "base_uri": "https://localhost:8080/"
        },
        "id": "2oe6rA--cBKZ",
        "outputId": "5dcf2883-585e-4a79-821c-32541a429866"
      },
      "source": [
        "!pip install memory-profiler"
      ],
      "execution_count": 2,
      "outputs": [
        {
          "output_type": "stream",
          "text": [
            "Requirement already satisfied: memory-profiler in /usr/local/lib/python3.6/dist-packages (0.58.0)\n",
            "Requirement already satisfied: psutil in /usr/local/lib/python3.6/dist-packages (from memory-profiler) (5.4.8)\n"
          ],
          "name": "stdout"
        }
      ]
    },
    {
      "cell_type": "code",
      "metadata": {
        "id": "E27TZzXvcKPQ"
      },
      "source": [
        "%load_ext memory_profiler"
      ],
      "execution_count": 3,
      "outputs": []
    },
    {
      "cell_type": "code",
      "metadata": {
        "id": "3tMuNeazqNVu"
      },
      "source": [
        "!pip install -U -q PyDrive\n",
        "from pydrive.auth import GoogleAuth\n",
        "from pydrive.drive import GoogleDrive\n",
        "from google.colab import auth\n",
        "from oauth2client.client import GoogleCredentials\n",
        "# Authenticate and create the PyDrive client.\n",
        "auth.authenticate_user()\n",
        "gauth = GoogleAuth()\n",
        "gauth.credentials = GoogleCredentials.get_application_default()\n",
        "drive = GoogleDrive(gauth)"
      ],
      "execution_count": 4,
      "outputs": []
    },
    {
      "cell_type": "code",
      "metadata": {
        "id": "jlf9P0WcqaP1"
      },
      "source": [
        "id = '1SujkUIqpPKg9LlJ8s77upbeTKkenmrLc'"
      ],
      "execution_count": 5,
      "outputs": []
    },
    {
      "cell_type": "code",
      "metadata": {
        "colab": {
          "base_uri": "https://localhost:8080/"
        },
        "id": "itz-paJgzjac",
        "outputId": "069aeb30-84b6-44fc-d923-efdd0463f747"
      },
      "source": [
        "# -- some cleaning\n",
        "needed = True\n",
        "if needed :\n",
        "  %rm -R gpeg/\n",
        "  %rm context.py\n",
        "  %rm fastGraph.py\n",
        "  %rm node.py\n",
        "  %rm _recSystems.py\n",
        "  %rm trivialClf.py\n",
        "  %rm edge.py\n",
        "  %rm main.py \n",
        "  %rm scorer.py"
      ],
      "execution_count": 6,
      "outputs": [
        {
          "output_type": "stream",
          "text": [
            "rm: cannot remove 'context.py': No such file or directory\n",
            "rm: cannot remove 'fastGraph.py': No such file or directory\n",
            "rm: cannot remove 'node.py': No such file or directory\n",
            "rm: cannot remove '_recSystems.py': No such file or directory\n",
            "rm: cannot remove 'trivialClf.py': No such file or directory\n",
            "rm: cannot remove 'edge.py': No such file or directory\n",
            "rm: cannot remove 'main.py': No such file or directory\n",
            "rm: cannot remove 'scorer.py': No such file or directory\n"
          ],
          "name": "stdout"
        }
      ]
    },
    {
      "cell_type": "code",
      "metadata": {
        "colab": {
          "base_uri": "https://localhost:8080/"
        },
        "id": "g-7LxOj7GZ-n",
        "outputId": "fea02248-c260-4830-9b1d-89338e6a3dc8"
      },
      "source": [
        "!git clone -b heavy https://github.com/TiphaineV/gpeg.git"
      ],
      "execution_count": 7,
      "outputs": [
        {
          "output_type": "stream",
          "text": [
            "Cloning into 'gpeg'...\n",
            "remote: Enumerating objects: 272, done.\u001b[K\n",
            "remote: Counting objects: 100% (272/272), done.\u001b[K\n",
            "remote: Compressing objects: 100% (174/174), done.\u001b[K\n",
            "remote: Total 438 (delta 184), reused 167 (delta 96), pack-reused 166\u001b[K\n",
            "Receiving objects: 100% (438/438), 1016.97 KiB | 13.93 MiB/s, done.\n",
            "Resolving deltas: 100% (272/272), done.\n"
          ],
          "name": "stdout"
        }
      ]
    },
    {
      "cell_type": "code",
      "metadata": {
        "colab": {
          "base_uri": "https://localhost:8080/"
        },
        "id": "YL9NNLW5sJ6X",
        "outputId": "24872de0-e5bc-4278-e59d-7678bc61eb62"
      },
      "source": [
        "cd gpeg/fast_implementation/"
      ],
      "execution_count": 8,
      "outputs": [
        {
          "output_type": "stream",
          "text": [
            "/content/gpeg/fast_implementation\n"
          ],
          "name": "stdout"
        }
      ]
    },
    {
      "cell_type": "code",
      "metadata": {
        "id": "Gx_E85y5so7r"
      },
      "source": [
        "# Modules\n",
        "import numpy as np\n",
        "from _recSystems import _Clf\n",
        "from fastGraph import Graph\n",
        "from trivialClf import TrivialClf\n",
        "from scorer import ClfScorer"
      ],
      "execution_count": 9,
      "outputs": []
    },
    {
      "cell_type": "code",
      "metadata": {
        "id": "RoGtfIGwqZFy"
      },
      "source": [
        "# -- Loading userData (heavy, takes around a minute)\n",
        "downloaded = drive.CreateFile({'id':id}) \n",
        "downloaded.GetContentFile('userData.csv')"
      ],
      "execution_count": 10,
      "outputs": []
    },
    {
      "cell_type": "code",
      "metadata": {
        "id": "S44J2u2T-Ha_"
      },
      "source": [
        "userDataStream = pd.read_csv('userData.csv', chunksize= 1e6) # please don't change chuksize"
      ],
      "execution_count": 11,
      "outputs": []
    },
    {
      "cell_type": "markdown",
      "metadata": {
        "id": "jicOoSBDOguK"
      },
      "source": [
        "## Building Adjency Matrix"
      ]
    },
    {
      "cell_type": "code",
      "metadata": {
        "id": "PcEwOHi8wxOd",
        "colab": {
          "base_uri": "https://localhost:8080/"
        },
        "outputId": "0f702795-003d-498a-9bb6-0dc07f4165e9"
      },
      "source": [
        "%%time\n",
        "# -- Graph construction, nChunk * 1e6 rows are processed from movieLens 20M.\n",
        "# -- Takes around 2'30 for one chunk\n",
        "%memit graph = Graph(userDataStream, nChunk=1)"
      ],
      "execution_count": 12,
      "outputs": [
        {
          "output_type": "stream",
          "text": [
            "Graph init ...\n",
            "Processing chunk 0.\n",
            "peak memory: 2446.71 MiB, increment: 151.02 MiB\n",
            "CPU times: user 2min 30s, sys: 551 ms, total: 2min 30s\n",
            "Wall time: 2min 31s\n"
          ],
          "name": "stdout"
        }
      ]
    },
    {
      "cell_type": "markdown",
      "metadata": {
        "id": "sWP7KvD_OuPM"
      },
      "source": [
        "## Graph split"
      ]
    },
    {
      "cell_type": "code",
      "metadata": {
        "id": "bTIdketOwZ3V",
        "colab": {
          "base_uri": "https://localhost:8080/"
        },
        "outputId": "b52d6c83-5ef3-47c5-9d30-2eb2356119c1"
      },
      "source": [
        "%%time\n",
        "# -- Parameters\n",
        "alpha = 0.1 # test proportion in the split\n",
        "\n",
        "# -- train_test_split\n",
        "%memit trainEdges, testEdges = graph.train_test_split(alpha= alpha)"
      ],
      "execution_count": 13,
      "outputs": [
        {
          "output_type": "stream",
          "text": [
            "peak memory: 2345.50 MiB, increment: 29.86 MiB\n",
            "CPU times: user 1.39 s, sys: 89 ms, total: 1.48 s\n",
            "Wall time: 1.62 s\n"
          ],
          "name": "stdout"
        }
      ]
    },
    {
      "cell_type": "markdown",
      "metadata": {
        "id": "By-Ea9BEOxCc"
      },
      "source": [
        "## Classification"
      ]
    },
    {
      "cell_type": "code",
      "metadata": {
        "id": "7f8kucuXPMiY",
        "colab": {
          "base_uri": "https://localhost:8080/"
        },
        "outputId": "d871bfd3-60c8-4d02-830a-d8dce6f4f3dd"
      },
      "source": [
        "# -- Loading userData\n",
        "%memit userData = pd.read_csv('userData.csv')"
      ],
      "execution_count": 14,
      "outputs": [
        {
          "output_type": "stream",
          "text": [
            "peak memory: 5474.33 MiB, increment: 3156.94 MiB\n"
          ],
          "name": "stdout"
        }
      ]
    },
    {
      "cell_type": "code",
      "metadata": {
        "id": "mkSIgknaErjF",
        "colab": {
          "base_uri": "https://localhost:8080/"
        },
        "outputId": "f1b8edaa-8294-40b7-a023-43cc10e419f5"
      },
      "source": [
        "print(userData.head(10))"
      ],
      "execution_count": 15,
      "outputs": [
        {
          "output_type": "stream",
          "text": [
            "   Unnamed: 0  userId  movieId  rating     timestamp_rating  tag timestamp_tag\n",
            "0           0       1        2     3.5  2005-04-02 23:53:47  NaN           NaN\n",
            "1           1       1       29     3.5  2005-04-02 23:31:16  NaN           NaN\n",
            "2           2       1       32     3.5  2005-04-02 23:33:39  NaN           NaN\n",
            "3           3       1       47     3.5  2005-04-02 23:32:07  NaN           NaN\n",
            "4           4       1       50     3.5  2005-04-02 23:29:40  NaN           NaN\n",
            "5           5       1      112     3.5  2004-09-10 03:09:00  NaN           NaN\n",
            "6           6       1      151     4.0  2004-09-10 03:08:54  NaN           NaN\n",
            "7           7       1      223     4.0  2005-04-02 23:46:13  NaN           NaN\n",
            "8           8       1      253     4.0  2005-04-02 23:35:40  NaN           NaN\n",
            "9           9       1      260     4.0  2005-04-02 23:33:46  NaN           NaN\n"
          ],
          "name": "stdout"
        }
      ]
    },
    {
      "cell_type": "code",
      "metadata": {
        "id": "WyplwG2XEquN",
        "colab": {
          "base_uri": "https://localhost:8080/"
        },
        "outputId": "71d1a156-772b-4aee-e383-7d40ff22805f"
      },
      "source": [
        "# -- Fitting recommender system\n",
        "clf = TrivialClf(userData, graph.adjency)\n",
        "%memit clf.fit(trainEdges)"
      ],
      "execution_count": 16,
      "outputs": [
        {
          "output_type": "stream",
          "text": [
            "peak memory: 5500.51 MiB, increment: 25.99 MiB\n"
          ],
          "name": "stdout"
        }
      ]
    },
    {
      "cell_type": "markdown",
      "metadata": {
        "id": "82lOTWJWOa_j"
      },
      "source": [
        "## Scoring predictions"
      ]
    },
    {
      "cell_type": "code",
      "metadata": {
        "id": "n12mho8gE-CL",
        "colab": {
          "base_uri": "https://localhost:8080/"
        },
        "outputId": "348fbbf6-8e7d-4b96-a02f-50746cc44bde"
      },
      "source": [
        "# -- Prediction\n",
        "yPred = clf.predict(testEdges)\n",
        "yTrue = clf._get_labels(testEdges)"
      ],
      "execution_count": 17,
      "outputs": [
        {
          "output_type": "stream",
          "text": [
            "random prop 0.88736\n"
          ],
          "name": "stdout"
        }
      ]
    },
    {
      "cell_type": "code",
      "metadata": {
        "id": "fKHG8yZi1z0G",
        "colab": {
          "base_uri": "https://localhost:8080/"
        },
        "outputId": "31fa4611-3ef9-4e36-9e5e-59bacc563e30"
      },
      "source": [
        "print(classification_report(yTrue, yPred))"
      ],
      "execution_count": 19,
      "outputs": [
        {
          "output_type": "stream",
          "text": [
            "              precision    recall  f1-score   support\n",
            "\n",
            "           0       0.94      0.65      0.77     94175\n",
            "           1       0.06      0.34      0.10      5825\n",
            "\n",
            "    accuracy                           0.63    100000\n",
            "   macro avg       0.50      0.49      0.43    100000\n",
            "weighted avg       0.89      0.63      0.73    100000\n",
            "\n"
          ],
          "name": "stdout"
        }
      ]
    },
    {
      "cell_type": "code",
      "metadata": {
        "id": "nJ40_3D4JE8P",
        "colab": {
          "base_uri": "https://localhost:8080/"
        },
        "outputId": "6547bcc9-b449-4b95-c199-a34adff8bc14"
      },
      "source": [
        "sample = np.random.choice(range(len(yPred)), size = 10)\n",
        "print(sample)"
      ],
      "execution_count": 20,
      "outputs": [
        {
          "output_type": "stream",
          "text": [
            "[50670 65863 80671 91239 51540 78444 94907 27677 23615 20275]\n"
          ],
          "name": "stdout"
        }
      ]
    },
    {
      "cell_type": "code",
      "metadata": {
        "id": "iQUNBHw7O_ZE",
        "colab": {
          "base_uri": "https://localhost:8080/"
        },
        "outputId": "389971bb-9b21-4659-9641-d078b7b85590"
      },
      "source": [
        "print('Predictions \\n', yPred.iloc[sample].astype('uint8'))"
      ],
      "execution_count": 21,
      "outputs": [
        {
          "output_type": "stream",
          "text": [
            "Predictions \n",
            " 57136    1\n",
            "74354    0\n",
            "90993    0\n",
            "23225    0\n",
            "58275    0\n",
            "88477    0\n",
            "54712    0\n",
            "31022    1\n",
            "26520    1\n",
            "22708    0\n",
            "dtype: uint8\n"
          ],
          "name": "stdout"
        }
      ]
    },
    {
      "cell_type": "code",
      "metadata": {
        "id": "3BryjhxBPCj0",
        "colab": {
          "base_uri": "https://localhost:8080/"
        },
        "outputId": "b8bf2dd2-9d1e-4b8f-c8b9-363df7b4ac0e"
      },
      "source": [
        "print('Ground truth labels \\n', yTrue.iloc[sample])"
      ],
      "execution_count": 22,
      "outputs": [
        {
          "output_type": "stream",
          "text": [
            "Ground truth labels \n",
            " 50670    1\n",
            "65863    0\n",
            "80671    0\n",
            "91239    0\n",
            "51540    0\n",
            "78444    0\n",
            "94907    0\n",
            "27677    0\n",
            "23615    0\n",
            "20275    0\n",
            "Name: rating, dtype: uint8\n"
          ],
          "name": "stdout"
        }
      ]
    },
    {
      "cell_type": "code",
      "metadata": {
        "id": "LUHaN7f2PWk0",
        "colab": {
          "base_uri": "https://localhost:8080/"
        },
        "outputId": "d4f1d366-03d6-456a-b748-115310834911"
      },
      "source": [
        "# -- Scoring\n",
        "scorer = ClfScorer()\n",
        "%memit score = scorer.score(clf, testEdges)"
      ],
      "execution_count": 23,
      "outputs": [
        {
          "output_type": "stream",
          "text": [
            "random prop 0.88736\n",
            "              precision    recall  f1-score   support\n",
            "\n",
            "     class 0       0.94      0.65      0.77     94175\n",
            "     class 1       0.06      0.34      0.10      5825\n",
            "\n",
            "    accuracy                           0.63    100000\n",
            "   macro avg       0.50      0.50      0.43    100000\n",
            "weighted avg       0.89      0.63      0.73    100000\n",
            "\n",
            "peak memory: 5476.30 MiB, increment: 0.19 MiB\n"
          ],
          "name": "stdout"
        }
      ]
    },
    {
      "cell_type": "code",
      "metadata": {
        "id": "KgqaYoMiS8T5",
        "colab": {
          "base_uri": "https://localhost:8080/",
          "height": 34
        },
        "outputId": "61a65851-a7cb-4a62-b6fd-2bc5a72944bd"
      },
      "source": [
        "from google.colab import files\n",
        "files.download('adjency-5M.npz')"
      ],
      "execution_count": 27,
      "outputs": [
        {
          "output_type": "display_data",
          "data": {
            "application/javascript": [
              "\n",
              "    async function download(id, filename, size) {\n",
              "      if (!google.colab.kernel.accessAllowed) {\n",
              "        return;\n",
              "      }\n",
              "      const div = document.createElement('div');\n",
              "      const label = document.createElement('label');\n",
              "      label.textContent = `Downloading \"${filename}\": `;\n",
              "      div.appendChild(label);\n",
              "      const progress = document.createElement('progress');\n",
              "      progress.max = size;\n",
              "      div.appendChild(progress);\n",
              "      document.body.appendChild(div);\n",
              "\n",
              "      const buffers = [];\n",
              "      let downloaded = 0;\n",
              "\n",
              "      const channel = await google.colab.kernel.comms.open(id);\n",
              "      // Send a message to notify the kernel that we're ready.\n",
              "      channel.send({})\n",
              "\n",
              "      for await (const message of channel.messages) {\n",
              "        // Send a message to notify the kernel that we're ready.\n",
              "        channel.send({})\n",
              "        if (message.buffers) {\n",
              "          for (const buffer of message.buffers) {\n",
              "            buffers.push(buffer);\n",
              "            downloaded += buffer.byteLength;\n",
              "            progress.value = downloaded;\n",
              "          }\n",
              "        }\n",
              "      }\n",
              "      const blob = new Blob(buffers, {type: 'application/binary'});\n",
              "      const a = document.createElement('a');\n",
              "      a.href = window.URL.createObjectURL(blob);\n",
              "      a.download = filename;\n",
              "      div.appendChild(a);\n",
              "      a.click();\n",
              "      div.remove();\n",
              "    }\n",
              "  "
            ],
            "text/plain": [
              "<IPython.core.display.Javascript object>"
            ]
          },
          "metadata": {
            "tags": []
          }
        },
        {
          "output_type": "display_data",
          "data": {
            "application/javascript": [
              "download(\"download_95681369-874d-4938-9a53-e87fe0af3d50\", \"adjency-5M.npz\", 3109318)"
            ],
            "text/plain": [
              "<IPython.core.display.Javascript object>"
            ]
          },
          "metadata": {
            "tags": []
          }
        }
      ]
    }
  ]
}