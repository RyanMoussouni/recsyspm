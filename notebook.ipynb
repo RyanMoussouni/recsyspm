{
 "cells": [
  {
   "cell_type": "markdown",
   "metadata": {
    "id": "7k1QGkhbOb3g"
   },
   "source": [
    "## Loading Files"
   ]
  },
  {
   "cell_type": "code",
   "execution_count": 1,
   "metadata": {
    "id": "rAyJm-MIs0_8"
   },
   "outputs": [],
   "source": [
    "import pandas as pd\n",
    "from sklearn.metrics import classification_report\n",
    "import scipy.sparse as sparse"
   ]
  },
  {
   "cell_type": "code",
   "execution_count": 2,
   "metadata": {
    "colab": {
     "base_uri": "https://localhost:8080/"
    },
    "id": "2oe6rA--cBKZ",
    "outputId": "03c045ca-e4cb-406d-bea5-ac995116d868"
   },
   "outputs": [
    {
     "name": "stdout",
     "output_type": "stream",
     "text": [
      "Requirement already satisfied: memory-profiler in /Users/ryan/Documents/Ryan/projet Prim/tst/env/lib/python3.9/site-packages (0.58.0)\n",
      "Requirement already satisfied: psutil in /Users/ryan/Documents/Ryan/projet Prim/tst/env/lib/python3.9/site-packages (from memory-profiler) (5.8.0)\n",
      "\u001b[33mWARNING: You are using pip version 20.2.3; however, version 20.3.3 is available.\n",
      "You should consider upgrading via the '/Users/ryan/Documents/Ryan/projet Prim/tst/env/bin/python3 -m pip install --upgrade pip' command.\u001b[0m\n"
     ]
    }
   ],
   "source": [
    "!pip install memory-profiler"
   ]
  },
  {
   "cell_type": "code",
   "execution_count": 3,
   "metadata": {
    "id": "E27TZzXvcKPQ"
   },
   "outputs": [],
   "source": [
    "%load_ext memory_profiler"
   ]
  },
  {
   "cell_type": "code",
   "execution_count": 4,
   "metadata": {
    "id": "3tMuNeazqNVu"
   },
   "outputs": [],
   "source": [
    "!pip install -U -q PyDrive\n",
    "from pydrive.auth import GoogleAuth\n",
    "from pydrive.drive import GoogleDrive\n",
    "from google.colab import auth\n",
    "from oauth2client.client import GoogleCredentials\n",
    "# Authenticate and create the PyDrive client.\n",
    "auth.authenticate_user()\n",
    "gauth = GoogleAuth()\n",
    "gauth.credentials = GoogleCredentials.get_application_default()\n",
    "drive = GoogleDrive(gauth)"
   ]
  },
  {
   "cell_type": "code",
   "execution_count": 5,
   "metadata": {
    "id": "jlf9P0WcqaP1"
   },
   "outputs": [],
   "source": [
    "# -- Adapt it with the id of your files\n",
    "userfile_id = '1SujkUIqpPKg9LlJ8s77upbeTKkenmrLc'\n",
    "adjency_id = '1Oz8rbp1HOb9EB_7dZYLQdVJ09oAyMlWB'"
   ]
  },
  {
   "cell_type": "code",
   "execution_count": 6,
   "metadata": {
    "colab": {
     "base_uri": "https://localhost:8080/"
    },
    "id": "itz-paJgzjac",
    "outputId": "5a766b6d-e14c-466c-a7f5-cf063f1c8163"
   },
   "outputs": [
    {
     "name": "stdout",
     "output_type": "stream",
     "text": [
      "rm: cannot remove 'context.py': No such file or directory\n",
      "rm: cannot remove 'fastGraph.py': No such file or directory\n",
      "rm: cannot remove 'node.py': No such file or directory\n",
      "rm: cannot remove '_recSystems.py': No such file or directory\n",
      "rm: cannot remove 'trivialClf.py': No such file or directory\n",
      "rm: cannot remove 'edge.py': No such file or directory\n",
      "rm: cannot remove 'main.py': No such file or directory\n",
      "rm: cannot remove 'scorer.py': No such file or directory\n"
     ]
    }
   ],
   "source": [
    "# -- some cleaning\n",
    "needed = True\n",
    "if needed :\n",
    "  %rm -R gpeg/\n",
    "  %rm context.py\n",
    "  %rm fastGraph.py\n",
    "  %rm node.py\n",
    "  %rm _recSystems.py\n",
    "  %rm trivialClf.py\n",
    "  %rm edge.py\n",
    "  %rm main.py \n",
    "  %rm scorer.py"
   ]
  },
  {
   "cell_type": "code",
   "execution_count": 4,
   "metadata": {
    "colab": {
     "base_uri": "https://localhost:8080/"
    },
    "id": "g-7LxOj7GZ-n",
    "outputId": "f4a722fe-2157-4a46-9713-fa8cf6597226"
   },
   "outputs": [
    {
     "name": "stdout",
     "output_type": "stream",
     "text": [
      "Cloning into 'gpeg'...\n",
      "remote: Enumerating objects: 300, done.\u001b[K\n",
      "remote: Counting objects: 100% (300/300), done.\u001b[K\n",
      "remote: Compressing objects: 100% (190/190), done.\u001b[K\n",
      "remote: Total 466 (delta 201), reused 187 (delta 108), pack-reused 166\u001b[K\n",
      "Receiving objects: 100% (466/466), 1.03 MiB | 2.45 MiB/s, done.\n",
      "Resolving deltas: 100% (289/289), done.\n"
     ]
    }
   ],
   "source": [
    "!git clone -b heavy https://github.com/TiphaineV/gpeg.git"
   ]
  },
  {
   "cell_type": "code",
   "execution_count": 8,
   "metadata": {
    "colab": {
     "base_uri": "https://localhost:8080/"
    },
    "id": "YL9NNLW5sJ6X",
    "outputId": "d3378156-efa7-4dc9-95ca-86a898c852df"
   },
   "outputs": [
    {
     "name": "stdout",
     "output_type": "stream",
     "text": [
      "/content/gpeg/fast_implementation\n"
     ]
    }
   ],
   "source": [
    "cd gpeg/fast_implementation/"
   ]
  },
  {
   "cell_type": "code",
   "execution_count": 5,
   "metadata": {
    "id": "Gx_E85y5so7r"
   },
   "outputs": [],
   "source": [
    "# Modules\n",
    "import numpy as np\n",
    "from _recSystems import _Clf\n",
    "from fastGraph import Graph\n",
    "from trivialClf import TrivialClf\n",
    "from scorer import ClfScorer\n",
    "from features import StandardFeatures"
   ]
  },
  {
   "cell_type": "code",
   "execution_count": 15,
   "metadata": {},
   "outputs": [],
   "source": [
    "adjencyBool = False\n",
    "userData = False"
   ]
  },
  {
   "cell_type": "code",
   "execution_count": null,
   "metadata": {
    "id": "RoGtfIGwqZFy"
   },
   "outputs": [],
   "source": [
    "# -- Loading userData (heavy, takes around a minute)\n",
    "if userData:\n",
    "    downloaded = drive.CreateFile({'id':userfile_id}) \n",
    "    downloaded.GetContentFile('userData.csv')\n",
    "    userDataStream = pd.read_csv('userData.csv', chunksize= 1e6) # please don't change chuksize"
   ]
  },
  {
   "cell_type": "code",
   "execution_count": null,
   "metadata": {
    "id": "lbs-feAgKHWg"
   },
   "outputs": [],
   "source": [
    "# -- Loading adjency \n",
    "if adjencyBool:\n",
    "    downloaded = drive.CreateFile({'id':adjency_id}) \n",
    "    downloaded.GetContentFile('adjency-20M.npz')"
   ]
  },
  {
   "cell_type": "markdown",
   "metadata": {
    "id": "jicOoSBDOguK"
   },
   "source": [
    "## Building Adjency Matrix"
   ]
  },
  {
   "cell_type": "code",
   "execution_count": 6,
   "metadata": {
    "colab": {
     "base_uri": "https://localhost:8080/"
    },
    "id": "PcEwOHi8wxOd",
    "outputId": "4d6bce85-5771-4d4f-d42a-076586523f5d"
   },
   "outputs": [
    {
     "name": "stdout",
     "output_type": "stream",
     "text": [
      "Graph init ...\n",
      "peak memory: 866.68 MiB, increment: 765.61 MiB\n",
      "CPU times: user 1.3 s, sys: 255 ms, total: 1.56 s\n",
      "Wall time: 2.09 s\n"
     ]
    }
   ],
   "source": [
    "%%time\n",
    "# -- Graph construction, nChunk * 1e6 rows are processed from movieLens 20M.\n",
    "# -- Takes around 2'30 for one chunk\n",
    "%memit graph = Graph(path = 'adjency-20M.npz')"
   ]
  },
  {
   "cell_type": "markdown",
   "metadata": {
    "id": "sWP7KvD_OuPM"
   },
   "source": [
    "## Graph split"
   ]
  },
  {
   "cell_type": "code",
   "execution_count": 7,
   "metadata": {
    "colab": {
     "base_uri": "https://localhost:8080/"
    },
    "id": "bTIdketOwZ3V",
    "outputId": "d95cfbd1-f7e3-4e5d-a61b-24d1676d0bda"
   },
   "outputs": [
    {
     "name": "stdout",
     "output_type": "stream",
     "text": [
      "peak memory: 2115.49 MiB, increment: 1248.80 MiB\n",
      "CPU times: user 23.1 s, sys: 664 ms, total: 23.8 s\n",
      "Wall time: 24.3 s\n"
     ]
    }
   ],
   "source": [
    "%%time\n",
    "# -- Parameters\n",
    "alpha = 0.1 # test proportion in the split\n",
    "\n",
    "# -- train_test_split\n",
    "%memit trainEdges, testEdges = graph.train_test_split(alpha= alpha)"
   ]
  },
  {
   "cell_type": "markdown",
   "metadata": {
    "id": "By-Ea9BEOxCc"
   },
   "source": [
    "## Classification"
   ]
  },
  {
   "cell_type": "code",
   "execution_count": 8,
   "metadata": {
    "colab": {
     "base_uri": "https://localhost:8080/"
    },
    "id": "7f8kucuXPMiY",
    "outputId": "a70427e4-9537-4c4b-a1f4-429ba324fa8c"
   },
   "outputs": [
    {
     "name": "stdout",
     "output_type": "stream",
     "text": [
      "peak memory: 3455.93 MiB, increment: 2286.30 MiB\n"
     ]
    }
   ],
   "source": [
    "# -- Loading userData\n",
    "%memit userData = pd.read_csv('userData.csv')"
   ]
  },
  {
   "cell_type": "code",
   "execution_count": 9,
   "metadata": {
    "colab": {
     "base_uri": "https://localhost:8080/"
    },
    "id": "mkSIgknaErjF",
    "outputId": "31c6c56f-af62-45c9-a052-2a823801ec91"
   },
   "outputs": [
    {
     "name": "stdout",
     "output_type": "stream",
     "text": [
      "   Unnamed: 0  userId  movieId  rating     timestamp_rating  tag timestamp_tag\n",
      "0           0       1        2     3.5  2005-04-02 23:53:47  NaN           NaN\n",
      "1           1       1       29     3.5  2005-04-02 23:31:16  NaN           NaN\n",
      "2           2       1       32     3.5  2005-04-02 23:33:39  NaN           NaN\n",
      "3           3       1       47     3.5  2005-04-02 23:32:07  NaN           NaN\n",
      "4           4       1       50     3.5  2005-04-02 23:29:40  NaN           NaN\n",
      "5           5       1      112     3.5  2004-09-10 03:09:00  NaN           NaN\n",
      "6           6       1      151     4.0  2004-09-10 03:08:54  NaN           NaN\n",
      "7           7       1      223     4.0  2005-04-02 23:46:13  NaN           NaN\n",
      "8           8       1      253     4.0  2005-04-02 23:35:40  NaN           NaN\n",
      "9           9       1      260     4.0  2005-04-02 23:33:46  NaN           NaN\n"
     ]
    }
   ],
   "source": [
    "print(userData.head(10))"
   ]
  },
  {
   "cell_type": "code",
   "execution_count": 10,
   "metadata": {},
   "outputs": [],
   "source": [
    "# -- Getting feature functions\n",
    "featFncts = StandardFeatures.get_featFncts()"
   ]
  },
  {
   "cell_type": "code",
   "execution_count": 11,
   "metadata": {
    "colab": {
     "base_uri": "https://localhost:8080/"
    },
    "id": "WyplwG2XEquN",
    "outputId": "b2d3e68e-e4a5-4b45-be4e-3a9e5730c316"
   },
   "outputs": [
    {
     "name": "stdout",
     "output_type": "stream",
     "text": [
      "peak memory: 4656.63 MiB, increment: 2156.26 MiB\n"
     ]
    }
   ],
   "source": [
    "# -- Fitting recommender system\n",
    "clf = TrivialClf(userData, graph.adjency, featFncts)\n",
    "%memit clf.fit(trainEdges)"
   ]
  },
  {
   "cell_type": "markdown",
   "metadata": {
    "id": "82lOTWJWOa_j"
   },
   "source": [
    "## Scoring predictions"
   ]
  },
  {
   "cell_type": "code",
   "execution_count": 12,
   "metadata": {
    "colab": {
     "base_uri": "https://localhost:8080/",
     "height": 317
    },
    "id": "n12mho8gE-CL",
    "outputId": "365c5aab-ac8f-40f5-ef47-7ff68f7bdfe6"
   },
   "outputs": [
    {
     "name": "stdout",
     "output_type": "stream",
     "text": [
      "random prop 0.8839735\n"
     ]
    }
   ],
   "source": [
    "# -- Prediction (quite long because linear in nb of edges)\n",
    "yPred = clf.predict(testEdges)\n",
    "yTrue = clf._get_labels(testEdges)"
   ]
  },
  {
   "cell_type": "code",
   "execution_count": 13,
   "metadata": {
    "id": "fKHG8yZi1z0G"
   },
   "outputs": [
    {
     "name": "stdout",
     "output_type": "stream",
     "text": [
      "              precision    recall  f1-score   support\n",
      "\n",
      "           0       0.94      0.68      0.79   1878630\n",
      "           1       0.06      0.32      0.10    121370\n",
      "\n",
      "    accuracy                           0.66   2000000\n",
      "   macro avg       0.50      0.50      0.44   2000000\n",
      "weighted avg       0.89      0.66      0.75   2000000\n",
      "\n"
     ]
    }
   ],
   "source": [
    "print(classification_report(yTrue, yPred))"
   ]
  },
  {
   "cell_type": "code",
   "execution_count": 13,
   "metadata": {
    "id": "nJ40_3D4JE8P"
   },
   "outputs": [
    {
     "name": "stdout",
     "output_type": "stream",
     "text": [
      "[1869840  657360 1072973  368198  319400 1666520 1580765  476532 1522539\n",
      "  836864]\n"
     ]
    }
   ],
   "source": [
    "sample = np.random.choice(range(len(yPred)), size = 10)\n",
    "print(sample)"
   ]
  },
  {
   "cell_type": "code",
   "execution_count": 14,
   "metadata": {
    "id": "iQUNBHw7O_ZE"
   },
   "outputs": [
    {
     "name": "stdout",
     "output_type": "stream",
     "text": [
      "Predictions \n",
      " 862907     0\n",
      "743932     0\n",
      "1214112    0\n",
      "416775     0\n",
      "361301     0\n",
      "1883990    0\n",
      "1787145    1\n",
      "539791     0\n",
      "1721577    0\n",
      "947777     0\n",
      "dtype: uint8\n"
     ]
    }
   ],
   "source": [
    "print('Predictions \\n', yPred.iloc[sample].astype('uint8'))"
   ]
  },
  {
   "cell_type": "code",
   "execution_count": 15,
   "metadata": {
    "id": "3BryjhxBPCj0"
   },
   "outputs": [
    {
     "name": "stdout",
     "output_type": "stream",
     "text": [
      "Ground truth labels \n",
      " 1869840    0\n",
      "657360     0\n",
      "1072973    0\n",
      "368198     0\n",
      "319400     0\n",
      "1666520    0\n",
      "1580765    0\n",
      "476532     0\n",
      "1522539    0\n",
      "836864     0\n",
      "Name: rating, dtype: uint8\n"
     ]
    }
   ],
   "source": [
    "print('Ground truth labels \\n', yTrue.iloc[sample])"
   ]
  },
  {
   "cell_type": "code",
   "execution_count": 14,
   "metadata": {
    "id": "LUHaN7f2PWk0"
   },
   "outputs": [
    {
     "name": "stdout",
     "output_type": "stream",
     "text": [
      "random prop 0.8839735\n",
      "              precision    recall  f1-score   support\n",
      "\n",
      "     class 0       0.94      0.68      0.79   1878630\n",
      "     class 1       0.06      0.32      0.10    121370\n",
      "\n",
      "    accuracy                           0.66   2000000\n",
      "   macro avg       0.50      0.50      0.45   2000000\n",
      "weighted avg       0.89      0.66      0.75   2000000\n",
      "\n",
      "peak memory: 3251.55 MiB, increment: 129.60 MiB\n"
     ]
    }
   ],
   "source": [
    "# -- Scoring\n",
    "#scorer = ClfScorer()\n",
    "#%memit score = scorer.score(clf, testEdges) "
   ]
  },
  {
   "cell_type": "markdown",
   "metadata": {
    "id": "YRz_JdNiVOm_"
   },
   "source": [
    "## Some Exploratory Data Analysis"
   ]
  },
  {
   "cell_type": "code",
   "execution_count": 25,
   "metadata": {
    "id": "zbY2uldIWXAG"
   },
   "outputs": [],
   "source": [
    "import matplotlib.pyplot as plt\n",
    "%matplotlib inline"
   ]
  },
  {
   "cell_type": "code",
   "execution_count": 40,
   "metadata": {
    "colab": {
     "base_uri": "https://localhost:8080/",
     "height": 356
    },
    "id": "tW0z3twkVYqI",
    "outputId": "e9621be3-610e-42bc-a390-12fead37dd57"
   },
   "outputs": [
    {
     "data": {
      "image/png": "[encoded data removed]",
      "text/plain": [
       "<Figure size 720x360 with 2 Axes>"
      ]
     },
     "metadata": {
      "needs_background": "light",
      "tags": []
     },
     "output_type": "display_data"
    }
   ],
   "source": [
    "n = graph.rowFormat.shape[0]\n",
    "degreeDist = [graph.rowFormat[i].nnz for i in range(1,n)]\n",
    "\n",
    "fig, (ax1, ax2) = plt.subplots(1,2, figsize=(10,5))\n",
    "fig.suptitle('User degree')\n",
    "ax1.hist(degreeDist, bins= 100)\n",
    "ax1.set_title('full range')\n",
    "ax2.hist(degreeDist, bins = 20, range=(0,100))\n",
    "ax2.set_title('0 -> 100')\n",
    "plt.show()"
   ]
  },
  {
   "cell_type": "code",
   "execution_count": 69,
   "metadata": {
    "colab": {
     "base_uri": "https://localhost:8080/",
     "height": 356
    },
    "id": "-OkJmY2OWeQZ",
    "outputId": "17022730-c3a6-4128-846a-aa66ffa98e59"
   },
   "outputs": [
    {
     "data": {
      "image/png": "[encoded data removed]",
      "text/plain": [
       "<Figure size 720x360 with 2 Axes>"
      ]
     },
     "metadata": {
      "needs_background": "light",
      "tags": []
     },
     "output_type": "display_data"
    }
   ],
   "source": [
    "m = graph.colFormat.shape[1]\n",
    "degreeDist = [graph.colFormat[:,i].nnz for i in range(1,m)]\n",
    "\n",
    "fig, (ax1, ax2) = plt.subplots(1,2, figsize=(10,5))\n",
    "fig.suptitle('Movie degree')\n",
    "ax1.hist(degreeDist, bins= 100, range= (1, 70000), log=False)\n",
    "ax1.set_title('full range')\n",
    "ax2.hist(degreeDist, bins = 100, range=(1,20), log= False)\n",
    "ax2.set_title('0 -> 20')\n",
    "plt.show()"
   ]
  },
  {
   "cell_type": "code",
   "execution_count": 76,
   "metadata": {
    "colab": {
     "base_uri": "https://localhost:8080/",
     "height": 282
    },
    "id": "hXyJzqUSkLYW",
    "outputId": "ee5bc2df-af58-4ba7-ff89-374e280926da"
   },
   "outputs": [
    {
     "name": "stdout",
     "output_type": "stream",
     "text": [
      "weight of the first degrees 0.6706652126499455\n"
     ]
    },
    {
     "data": {
      "image/png": "[encoded data removed]",
      "text/plain": [
       "<Figure size 432x288 with 1 Axes>"
      ]
     },
     "metadata": {
      "needs_background": "light",
      "tags": []
     },
     "output_type": "display_data"
    }
   ],
   "source": [
    "count = plt.hist(degreeDist, bins = 20, range=(1,20), log= False)[0]\n",
    "\n",
    "print('weight of the first degrees', np.sum(count[[0,1,2,3,4]]) /np.sum(count))"
   ]
  },
  {
   "cell_type": "markdown",
   "metadata": {
    "id": "9_6axDUtX4aW"
   },
   "source": [
    "**Remarks** : \n",
    "\n",
    "When predicting the class of an edge (user, movie) we assume we have gathered underlying data on the user or on the movie during the fit on the training data.\n",
    "However, because a lot of movies are seen once or twice, with a non negligible probability, we might have to classify an edge for which the movie has not been seen.\n",
    "\n",
    "**Solution** :\n",
    "\n",
    "A way to tackle this problem is to threshold the data set by the movie degrees."
   ]
  }
 ],
 "metadata": {
  "colab": {
   "collapsed_sections": [],
   "name": "Graph.ipynb",
   "provenance": [],
   "toc_visible": true
  },
  "kernelspec": {
   "display_name": "Python 3",
   "language": "python",
   "name": "python3"
  },
  "language_info": {
   "codemirror_mode": {
    "name": "ipython",
    "version": 3
   },
   "file_extension": ".py",
   "mimetype": "text/x-python",
   "name": "python",
   "nbconvert_exporter": "python",
   "pygments_lexer": "ipython3",
   "version": "3.9.1"
  }
 },
 "nbformat": 4,
 "nbformat_minor": 4
}
